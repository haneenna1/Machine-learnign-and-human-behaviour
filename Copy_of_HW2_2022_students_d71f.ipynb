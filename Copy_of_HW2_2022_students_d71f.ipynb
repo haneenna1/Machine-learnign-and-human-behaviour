{
  "nbformat": 4,
  "nbformat_minor": 0,
  "metadata": {
    "colab": {
      "provenance": [],
      "collapsed_sections": [
        "QBcDv-WjqyfQ",
        "LUKD_nqn3ner",
        "4sm5Z1Pr-Nbe",
        "AM8nQec-zEDN"
      ],
      "include_colab_link": true
    },
    "kernelspec": {
      "display_name": "Python 3",
      "language": "python",
      "name": "python3"
    },
    "language_info": {
      "codemirror_mode": {
        "name": "ipython",
        "version": 3
      },
      "file_extension": ".py",
      "mimetype": "text/x-python",
      "name": "python",
      "nbconvert_exporter": "python",
      "pygments_lexer": "ipython3",
      "version": "3.8.3"
    }
  },
  "cells": [
    {
      "cell_type": "markdown",
      "metadata": {
        "id": "view-in-github",
        "colab_type": "text"
      },
      "source": [
        "<a href=\"https://colab.research.google.com/github/haneenna1/Machine-learnign-and-human-behaviour/blob/main/Copy_of_HW2_2022_students_d71f.ipynb\" target=\"_parent\"><img src=\"https://colab.research.google.com/assets/colab-badge.svg\" alt=\"Open In Colab\"/></a>"
      ]
    },
    {
      "cell_type": "markdown",
      "metadata": {
        "id": "9Mpd38HztkAh"
      },
      "source": [
        "<center>\n",
        "<h1>236606 - Machine Learning and Human Behavior</h1>\n",
        "<h2>Homework #2 - Discrete Choice ✨</h2>\n",
        "</center>"
      ]
    },
    {
      "cell_type": "markdown",
      "source": [
        "## Submission guidelines: \n",
        "1. Submit a .ipynb file with your solution for tasks 1 and 2. \n",
        "2. Add a text block in the beginning of your notebook with your IDs. \n",
        "3. Indicate clearly with a text block the sections of your solutions .\n",
        "4. For any questions regarding this homework, contact Bar: beini@campus.technion.ac.il.\n"
      ],
      "metadata": {
        "id": "QBcDv-WjqyfQ"
      }
    },
    {
      "cell_type": "markdown",
      "metadata": {
        "id": "MWK5QJd7opXM"
      },
      "source": [
        "## Preliminaries\n",
        "Run these cells to load into memory objects and functions that will be used throughtout today's workshop."
      ]
    },
    {
      "cell_type": "code",
      "metadata": {
        "id": "25Ie6znsg1gU"
      },
      "source": [
        "#@title Import\n",
        "import numpy as np\n",
        "import matplotlib.pyplot as plt\n",
        "import pandas as pd\n",
        "import abc\n",
        "import string\n",
        "import statsmodels.api as sm\n",
        "import itertools\n",
        "from sklearn import svm, linear_model\n",
        "import pandas as pd\n",
        "import sys\n",
        "import pickle as pkl\n",
        "\n",
        "from collections import OrderedDict\n",
        "\n",
        "%config InlineBackend.figure_format = 'retina'"
      ],
      "execution_count": 1,
      "outputs": []
    },
    {
      "cell_type": "code",
      "metadata": {
        "id": "-57rrztworxu"
      },
      "source": [
        "#@title Context Effect\n",
        "# user model types\n",
        "\n",
        "# Generate Choice \n",
        "\n",
        "class UserModel(abc.ABC):\n",
        "  @abc.abstractclassmethod\n",
        "  def __call__(self, X, *args):\n",
        "    '''\n",
        "    Given items X, calculate the user's valuation v(x) for each item x\n",
        "    '''\n",
        "    raise NotImplementedError()\n",
        "  \n",
        "  def predict(self, X, *args):\n",
        "    raise NotImplementedError()\n",
        "\n",
        "\n",
        "class RationalUserModel(UserModel):\n",
        "\n",
        "  def __init__(self, num_features, beta_h):\n",
        "    self.num_features = num_features\n",
        "    self.beta_h = beta_h\n",
        "    self.type = \"rational\"\n",
        "\n",
        "  def __call__(self, X):\n",
        "    return X@self.beta_h\n",
        "  \n",
        "  def choice(self, X):\n",
        "    return np.argmax(self(X), axis=0)\n",
        "\n",
        "\n",
        "class AttractionUserModel(UserModel):\n",
        "  def __init__(self, beta_h, alpha_attr):\n",
        "    # rational_utility_weights\n",
        "    self.rational_utility_weights = beta_h \n",
        "    # attraction_coefficient\n",
        "    self.attraction_coefficient = alpha_attr\n",
        "    self.name = \"attraction\"\n",
        "\n",
        "  def __call__(self, X):\n",
        "    # X: shape=(num_items,num_features) - Item covariates\n",
        "    return (\n",
        "        self._rational_decision_term(X)\n",
        "        + self.attraction_coefficient*self._attraction_term(X)\n",
        "    )\n",
        "\n",
        "  def _rational_decision_term(self, X):\n",
        "    return X@self.rational_utility_weights\n",
        "\n",
        "  def _attraction_term(self, X):\n",
        "    # Calculate preference vector\n",
        "    preference_vector = X.max(axis=0)-X.min(axis=0)\n",
        "    preference_vector_normalized = (\n",
        "        preference_vector\n",
        "        /np.sqrt(preference_vector@preference_vector)\n",
        "    )\n",
        "    # Calculate dominance and distance matrices\n",
        "    N = len(X)\n",
        "    dominance = np.zeros((N,N))\n",
        "    distance = np.zeros((N,N))\n",
        "    for i in range(N):\n",
        "      for j in range(N):\n",
        "        dominance[i,j] = (+1)*np.all(X[i]-X[j] >= 0) + (-1)*np.all(X[j]-X[i] >= 0)\n",
        "        distance[i,j] = abs(preference_vector_normalized@(X[i]-X[j]))\n",
        "\n",
        "    attraction_terms = (dominance*distance).sum(axis=1)\n",
        "    return attraction_terms\n",
        "  \n",
        "  def choice(self, X):\n",
        "    return np.argmax(self(X), axis=0)"
      ],
      "execution_count": 2,
      "outputs": []
    },
    {
      "cell_type": "code",
      "source": [
        "#@title Context Effects Environment\n",
        "\n",
        "\n",
        "class DiscreteChoiceEnvironment:\n",
        "    \"\"\"\n",
        "    Generic class for discrete-choice dataset generation\n",
        "    \"\"\"\n",
        "    n_features = 8\n",
        "    observations_per_user = 10\n",
        "    items_per_slate = 1\n",
        "    train_user_proportion = 0.6\n",
        "\n",
        "    def _generate_user_item_attributes(self, n_users):\n",
        "        \"\"\"\n",
        "        Generate latent parameters for users and items.\n",
        "\n",
        "        Parameters\n",
        "        ----------\n",
        "        n_users : int\n",
        "\n",
        "        Output\n",
        "        ------\n",
        "        users : ndarray of shape (n_users, n_features)\n",
        "        items : ndarray of shape\n",
        "                (n_users, observations_per_user, items_per_slate, n_features)\n",
        "        \"\"\"\n",
        "        users = np.random.normal(\n",
        "            size=(\n",
        "                n_users,\n",
        "                self.n_features,\n",
        "            ),\n",
        "        )\n",
        "        items = np.random.normal(\n",
        "            size=(\n",
        "                n_users,\n",
        "                self.observations_per_user,\n",
        "                self.items_per_slate,\n",
        "                self.n_features,\n",
        "            ),\n",
        "        )\n",
        "        return users, items\n",
        "\n",
        "    def _choice(self, users, items):\n",
        "        \"\"\"\n",
        "        Discrete choice function\n",
        "        \n",
        "        Parameters\n",
        "        ----------\n",
        "        users : ndarray of shape (n_users, n_features)\n",
        "        items : ndarray of shape\n",
        "                (n_users, observations_per_user, items_per_slate, n_features)\n",
        "\n",
        "        Output\n",
        "        ------\n",
        "        choice : Dict[str -> ndarray of shape(n_users, observations_per_user)]\n",
        "        \"\"\"\n",
        "        raise NotImplementedError\n",
        "    \n",
        "    def _generate_choice_dataset(self, n_users):\n",
        "        \"\"\"\n",
        "        Generate choice dataset, formatted as pandas dataframe.\n",
        "        \"\"\"\n",
        "        users, items = self._generate_user_item_attributes(n_users)\n",
        "        choice_dct = self._choice(users, items)\n",
        "        rows = []\n",
        "        for i in range(n_users):\n",
        "            for j in range(self.observations_per_user):\n",
        "                dct = {}\n",
        "                dct['user_id'] = f'{i}'\n",
        "                dct['slate_id'] = f'{i}_{j}'\n",
        "                for k in range(self.items_per_slate):\n",
        "                    for l in range(self.n_features):\n",
        "                        dct[f'x_{k},{l}'] = items[i,j,k,l]\n",
        "                for choice_type, choice_matrix in choice_dct.items():\n",
        "                    dct[choice_type] = choice_matrix[i,j]\n",
        "                rows.append(dct)\n",
        "        df = pd.DataFrame(rows)\n",
        "        return df\n",
        "    \n",
        "    def generate_datasets(self, n_users):\n",
        "        n_train_users = int(n_users*self.train_user_proportion)\n",
        "        n_test_users = n_users - n_train_users\n",
        "        return (\n",
        "            self._generate_choice_dataset(n_train_users),\n",
        "            self._generate_choice_dataset(n_test_users),\n",
        "        )\n",
        "\n",
        "\n",
        "class ContextChoiceEnvironment(DiscreteChoiceEnvironment):\n",
        "    \"\"\"\n",
        "    Dataset generator for binary choice with decision noise\n",
        "    \"\"\"\n",
        "    def __init__(self,\n",
        "                 slate_number=1,\n",
        "                 observations_per_user=50,\n",
        "                 num_items_omega=15):\n",
        "      \n",
        "        # self.noise_scale = noise_scale\n",
        "        self.user_model = AttractionUserModel(\n",
        "                          beta_h=np.array([1,9]),\n",
        "                          alpha_attr=3,\n",
        "                          )\n",
        "        self.slate_number = slate_number\n",
        "        self.observations_per_user = observations_per_user\n",
        "        self._generate_ex1_items(slate_number=slate_number,\n",
        "                                 num_items_omega=num_items_omega)\n",
        "\n",
        "\n",
        "    def _generate_ex1_items(self, slate_number=1, num_items_omega=15):\n",
        "      if slate_number == 1:\n",
        "        self.omega = np.array([[1,3,3,4,10,4,2],[1,7.5,5,4,5,6,1]]) \n",
        "        self.E_s = np.array([10, 80, 30, 40, 20, 30, 100])\n",
        "        self.omega_tag = np.array([[4,2.5,4.5],[4.5,6,5]])\n",
        "        self.E_s_tag = np.array([5, 8, 3])\n",
        "\n",
        "      elif slate_number == 2:\n",
        "        self.omega = np.array([[3,8,8.5,4,10,8,2, 1],[8,7,4,4,5,6,1, 8]])\n",
        "        self.E_s = np.array([10, 90, 30, 50, 30, 40,100,90])\n",
        "\n",
        "        self.omega_tag = np.array([[4,3,4.5,6],[8,6,5,6]])\n",
        "        self.E_s_tag = np.array([5, 8, 3, 9])\n",
        "\n",
        "      else:\n",
        "        np.random.seed(42) \n",
        "        num_items_omega = 15\n",
        "        self.omega, self.omega_tag = list(), list()\n",
        "        self.E_s, self.E_s_tag = list(), list()\n",
        "\n",
        "        for i in range(self.observations_per_user):\n",
        "          self.omega.append(np.hstack([np.zeros((num_items_omega, 1)),\n",
        "                                        np.ones((num_items_omega, 1))*i,\n",
        "                                        np.random.randint(\n",
        "                                            20,size=(num_items_omega,2)),\n",
        "                                       np.random.randint(\n",
        "                                           20,100,size=(num_items_omega,1))\n",
        "                                        ]\n",
        "                                       )\n",
        "          )\n",
        "          \n",
        "          self.omega_tag.append(np.hstack([np.zeros((100, 1)),\n",
        "                              np.ones((100, 1))*i,\n",
        "                              np.random.randint(\n",
        "                                  20,size=(100,2)),\n",
        "                              np.random.randint(20,size=(100,1))\n",
        "                              ]\n",
        "                              )\n",
        "          )\n",
        "\n",
        "        self.omega = np.vstack(self.omega).T\n",
        "        self.omega_tag = np.vstack(self.omega_tag).T\n",
        "      return\n",
        "\n",
        "    def _items_to_frame(self, omega, E_s, char_start=ord('A')):\n",
        "\n",
        "        data = pd.DataFrame(omega.T).reset_index()\n",
        "        if len(data) < self.observations_per_user:\n",
        "          data['user_id'] = np.zeros(len(data))\n",
        "          data['slate_id'] = np.zeros(len(data))\n",
        "          data['rantional_user_val'] = omega.T@\\\n",
        "                            self.user_model.rational_utility_weights\n",
        "          data[\"E_s\"] = E_s\n",
        "\n",
        "        else:\n",
        "          data['rantional_user_val'] = data.loc[:,[2,3]].values@\\\n",
        "                  self.user_model.rational_utility_weights\n",
        "\n",
        "          data.rename(columns={0:'user_id', 1:'slate_id',\n",
        "                               2:'x_0', 3:'x_1', 4:'E_s'},\n",
        "                      inplace=True)\n",
        "\n",
        "        data['name'] = data['index'].apply(lambda x: chr(char_start+x))\n",
        "\n",
        "        return data\n",
        "\n",
        "\n",
        "    def inspect_data(self, items_type=\"current\", slate_id=-1):\n",
        "      \n",
        "      if items_type == \"current\":\n",
        "        data =  self._items_to_frame(self.omega,self.E_s)\n",
        "      elif items_type == \"tag\":\n",
        "        data =  self._items_to_frame(self.omega_tag, self.E_s_tag, ord('A') + len(self.E_s)+1) #todo: change this\n",
        "\n",
        "      return data      \n",
        "\n",
        "\n",
        "    def generate_datasets(self):\n",
        "      \n",
        "      print('here1')\n",
        "      data = pd.DataFrame(self.omega.T).reset_index()\n",
        "      print('len(data) = ', len(data))\n",
        "      print('observations_per_user = ', self.observations_per_user)\n",
        "      if len(data) < self.observations_per_user:\n",
        "        print('here2')\n",
        "\n",
        "        data['user_id'] = np.zeros(len(data))\n",
        "        data['slate_id'] = np.zeros(len(data))\n",
        "        data['name'] = data['index'].apply(lambda x: chr(ord('A')+x))\n",
        "        data['rantional_user_val'] = self.omega.T@\\\n",
        "                                    self.user_model.rational_utility_weights\n",
        "        self.top_5 = data.rantional_user_val.argsort()[-5:][::-1]\n",
        "        data['top_5'] = data['index'].apply(lambda x: x in self.top_5.values)\n",
        "        data['perceived_val'] = np.nan\n",
        "        data.loc[self.top_5, ['perceived_val']] = self.user_model(data.loc[self.top_5, [0,1]].values)\n",
        "        data = self._choice(data)\n",
        "      print('here3')\n",
        "      return data\n",
        "\n",
        "      \n",
        "    def _choice(self, data):\n",
        "        dummies = pd.get_dummies(data['index'])\n",
        "        # for name, group in grouped:\n",
        "        self.chosen = data['perceived_val'].idxmax()\n",
        "        data['chosen'] = dummies.iloc[data['perceived_val'].idxmax(), :]\n",
        "        return data\n",
        "\n",
        "    def add_item(self, index):\n",
        "      self.omega = np.hstack([self.omega,self.omega_tag[:,index].reshape(2,1)])\n",
        "      self.E_s =np.hstack([self.E_s,self.E_s_tag[1]])\n",
        "      return\n",
        "\n",
        "    def pop_item(self):\n",
        "      self.omega = self.omega[:,:-1]\n",
        "      self.E_s =self.E_s[:-1]\n",
        "      return\n",
        "    \n",
        "    def top_5(self, rantional_user_val):\n",
        "      return rantional_user_val.argsort()[-5:][::-1]\n",
        "\n",
        "    def plot_omega(self):\n",
        "      area = 20\n",
        "\n",
        "      self.generate_datasets()\n",
        "      fig, ax = plt.subplots()\n",
        "      ax.scatter(self.omega[0,:], self.omega[1,:], s=80,label=\"$\\Omega$\")\n",
        "      plt.title('Items in $\\Omega$', fontsize=20)\n",
        "      plt.xlabel('$X_1$')\n",
        "      plt.ylabel('$X_2$')\n",
        "      plt.grid()\n",
        "      # # color the top three items\n",
        "      ax.scatter(self.omega[0,self.top_5], self.omega[1,self.top_5], s=80, color='red')\n",
        "      # add annotations\n",
        "      S_len = self.omega.shape[1]\n",
        "      for i, txt in enumerate(string.ascii_uppercase[:S_len]):\n",
        "          ax.annotate(txt, (self.omega[0,:][i]+0.05, self.omega[1,:][i]+0.07))\n",
        "      ax.scatter(self.omega[0,self.chosen], self.omega[1,self.chosen], s=80, color='red',edgecolors='black',linewidths=2)\n",
        "      \n",
        "      plt.show()\n",
        "\n",
        "    def plot_two_sets(self):\n",
        "      area = 20\n",
        "\n",
        "      fig, ax = plt.subplots()\n",
        "      ax.scatter(self.omega[0,:], self.omega[1,:], s=80,label=\"$\\Omega$\")\n",
        "      plt.title('Items in both sets', fontsize=20)\n",
        "      plt.xlabel('$X_1$')\n",
        "      plt.ylabel('$X_2$')\n",
        "      plt.grid()\n",
        "      # inspect set of decoyes \n",
        "      ax.scatter(self.omega_tag[0,:],self.omega_tag[1,:], s=80, label=\"$\\Omega'$\")\n",
        "      plt.legend(loc='lower right')\n",
        "\n",
        "\n",
        "      # add annotations and print user values\n",
        "      S_len = self.omega.shape[1]\n",
        "      Sw_s = S_len + 1\n",
        "      Sw_len = Sw_s + self.omega_tag.shape[1]\n",
        "      for i, txt in enumerate(string.ascii_uppercase[:S_len]):\n",
        "          ax.annotate(txt, (self.omega[0,:][i]+0.05, self.omega[1,:][i]+0.07))\n",
        "\n",
        "      for i, txt in enumerate(string.ascii_uppercase[Sw_s:Sw_len]):\n",
        "          ax.annotate(txt, (self.omega_tag[0,:][i]+0.1, self.omega_tag[1,:][i]+0.1))\n",
        "      plt.show()\n",
        "\n",
        "      return\n"
      ],
      "metadata": {
        "id": "YX76vMPIRvA7"
      },
      "execution_count": 3,
      "outputs": []
    },
    {
      "cell_type": "markdown",
      "metadata": {
        "id": "9zegIuLRG5y5"
      },
      "source": [
        "\n",
        "\n",
        "-----------------\n",
        "-----------------"
      ]
    },
    {
      "cell_type": "markdown",
      "metadata": {
        "id": "LUKD_nqn3ner"
      },
      "source": [
        "## Task 1: engineering choice sets\n",
        "\n",
        "In this task, you will play \"evil designer\" and construct sets of available items that cause (non-rational) users to choose items that are bad for them (i.e., have suboptimal value), but good for the system. In particular, users in this task will be susceptible to the *Attracttion* context effect, and the way you construct the set of items should make use of this knowledge.\n",
        "\n",
        "----------------------------------------\n",
        "\n",
        "**Recommendation procedure:**\n",
        "1. The collection of available items is the *ground set* $\\Omega=\\{x_1,...,x_n\\}$ ($n$ may be different in different parts of this task). Each item $x \\in s$ is described by two features, $x=(x_1, x_2)$.\n",
        "2. There is a single user whose (true) value function is $v(x)=\\alpha^\\top x$. I.e., if the user chooses item $x_i$, then she receives $\\alpha_1\\cdot x_{i1} + \\alpha_2\\cdot x_{i2}$ utility from this choice. **The value vector $\\alpha$ is known to the system**.\n",
        "3. System also benefits from user choices. If the user chooses item $x_i$, then the system receives $e_i$ utility. The values $e_i$ are predetermined, known to the system, and do not depend on features.\n",
        "4. The system recommends to the user the top-5 items $x\\in \\Omega$ having highest value. We will call this the *choice set*, denoted $s \\in \\Omega$.\n",
        "5. The user chooses exactly one item $x \\in s$. This is the item with highest *perceived value*, as determined by the attraction effect:\n",
        "$$\n",
        "  \\tilde{v}(x|s) = \\alpha^\\top x + \\mathtt{att}(x|s)\n",
        "$$\n",
        "where $\\mathtt{att}$ is as was defined in class. We will denote the chosen item by $y = \\mathtt{argmax}_{x \\in s} \\tilde{v}(x|s)$.\n",
        "6. User receives utility $v(y)$, and system receives utility $e_y$.\n",
        "\n",
        "----------------------------------------\n",
        "\n",
        "In the above description, the system recommends in a way that is optimal to users. In this task, *you are an agent of the system*, and your goal is to maximize the system's utility.\n",
        "\n",
        "Of course, you cannot simply force the user to choose a certain item, nor can you change the recommendation procedure. The only thing you are allowed to do is to modify $\\Omega$ by adding one additional item from a different set of items, $\\Omega'$. Once $\\Omega$ is modified (i.e., includes one additional item), the recommendation procedure and user choice behavior is as described above.\n",
        "Hence, your goal is to (manually) choose $x \\in \\Omega$ such that the choice $y$ derived from a top-5 recommended set $s$ based on the collection of items $\\Omega \\cup \\{x\\}$ will results in high system utility $e_y$ (and possibly with lower utility $v(y)$ to the user).\n",
        "\n",
        "As you will see, items in  $\\Omega'$ actually have lower system values $e_i$ than items in $\\Omega$ ($\\forall e \\in E_S, e' \\in E_S':  e > e'$). Therefore, the item you add will serve as a *decoy*: these serve to modify the preceived values of items in $s$, in a way that utilizes the attraction effect to affect choice behavior. "
      ]
    },
    {
      "cell_type": "markdown",
      "metadata": {
        "id": "4sm5Z1Pr-Nbe"
      },
      "source": [
        "### 1.1 Guided example - a gentle start:\n",
        "\n",
        "Set $\\Omega$ consists of 7 items:\n",
        "\n",
        "\\begin{align}\n",
        "{A:(1,1), B:(3,7.5), C:(3,5), D:(4,4), E:(10,5), F:(4,6), G:(2,1)}\n",
        "\\end{align}\n",
        "\n",
        "with the following system utility values $e_s=\\{e_1,\\dots,e_n\\}$:\n",
        "\\begin{align}\n",
        "\\{10, 20, 80, 40, 20, 80, 100\\}\n",
        "\\end{align}\n",
        "\n",
        "Additionally, we have set $\\Omega'$:\n",
        "\\begin{align}\n",
        "{I:(4,4.5), J:(2.5,6), K:(4.5,5)}\n",
        "\\end{align}\n",
        "with the following values $e_{s'}$:\n",
        "\\begin{align}\n",
        "\\{5, 8, 3\\}\n",
        "\\end{align}\n",
        "\n",
        "The parameter $\\alpha$ of the user value function is: \n",
        "\\begin{align}\n",
        "\\alpha_1 = 1, \\alpha_2 = 9\n",
        "\\end{align}\n"
      ]
    },
    {
      "cell_type": "markdown",
      "metadata": {
        "id": "9HFE1ClPH3NR"
      },
      "source": [
        "1.1.1 First, let's see what happens before you intervene. Run the code below to see what 5 items are recommended by the system when $\\Omega$ is the ground set,\n",
        "and what item the user chooses. Make sure you understand what the code does."
      ]
    },
    {
      "cell_type": "code",
      "metadata": {
        "id": "nElEn6waxzKh",
        "colab": {
          "base_uri": "https://localhost:8080/",
          "height": 269
        },
        "outputId": "ab155af4-e97a-4a07-d454-c608dd4d3817"
      },
      "source": [
        "attraction_env = ContextChoiceEnvironment()\n",
        "attraction_env.inspect_data(items_type=\"current\")"
      ],
      "execution_count": 30,
      "outputs": [
        {
          "output_type": "execute_result",
          "data": {
            "text/plain": [
              "   index     0    1  user_id  slate_id  rantional_user_val  E_s name\n",
              "0      0   1.0  1.0      0.0       0.0                10.0   10    A\n",
              "1      1   3.0  7.5      0.0       0.0                70.5   80    B\n",
              "2      2   3.0  5.0      0.0       0.0                48.0   30    C\n",
              "3      3   4.0  4.0      0.0       0.0                40.0   40    D\n",
              "4      4  10.0  5.0      0.0       0.0                55.0   20    E\n",
              "5      5   4.0  6.0      0.0       0.0                58.0   30    F\n",
              "6      6   2.0  1.0      0.0       0.0                11.0  100    G"
            ],
            "text/html": [
              "\n",
              "  <div id=\"df-9b52ff53-21de-4178-b443-3c210bd989b1\">\n",
              "    <div class=\"colab-df-container\">\n",
              "      <div>\n",
              "<style scoped>\n",
              "    .dataframe tbody tr th:only-of-type {\n",
              "        vertical-align: middle;\n",
              "    }\n",
              "\n",
              "    .dataframe tbody tr th {\n",
              "        vertical-align: top;\n",
              "    }\n",
              "\n",
              "    .dataframe thead th {\n",
              "        text-align: right;\n",
              "    }\n",
              "</style>\n",
              "<table border=\"1\" class=\"dataframe\">\n",
              "  <thead>\n",
              "    <tr style=\"text-align: right;\">\n",
              "      <th></th>\n",
              "      <th>index</th>\n",
              "      <th>0</th>\n",
              "      <th>1</th>\n",
              "      <th>user_id</th>\n",
              "      <th>slate_id</th>\n",
              "      <th>rantional_user_val</th>\n",
              "      <th>E_s</th>\n",
              "      <th>name</th>\n",
              "    </tr>\n",
              "  </thead>\n",
              "  <tbody>\n",
              "    <tr>\n",
              "      <th>0</th>\n",
              "      <td>0</td>\n",
              "      <td>1.0</td>\n",
              "      <td>1.0</td>\n",
              "      <td>0.0</td>\n",
              "      <td>0.0</td>\n",
              "      <td>10.0</td>\n",
              "      <td>10</td>\n",
              "      <td>A</td>\n",
              "    </tr>\n",
              "    <tr>\n",
              "      <th>1</th>\n",
              "      <td>1</td>\n",
              "      <td>3.0</td>\n",
              "      <td>7.5</td>\n",
              "      <td>0.0</td>\n",
              "      <td>0.0</td>\n",
              "      <td>70.5</td>\n",
              "      <td>80</td>\n",
              "      <td>B</td>\n",
              "    </tr>\n",
              "    <tr>\n",
              "      <th>2</th>\n",
              "      <td>2</td>\n",
              "      <td>3.0</td>\n",
              "      <td>5.0</td>\n",
              "      <td>0.0</td>\n",
              "      <td>0.0</td>\n",
              "      <td>48.0</td>\n",
              "      <td>30</td>\n",
              "      <td>C</td>\n",
              "    </tr>\n",
              "    <tr>\n",
              "      <th>3</th>\n",
              "      <td>3</td>\n",
              "      <td>4.0</td>\n",
              "      <td>4.0</td>\n",
              "      <td>0.0</td>\n",
              "      <td>0.0</td>\n",
              "      <td>40.0</td>\n",
              "      <td>40</td>\n",
              "      <td>D</td>\n",
              "    </tr>\n",
              "    <tr>\n",
              "      <th>4</th>\n",
              "      <td>4</td>\n",
              "      <td>10.0</td>\n",
              "      <td>5.0</td>\n",
              "      <td>0.0</td>\n",
              "      <td>0.0</td>\n",
              "      <td>55.0</td>\n",
              "      <td>20</td>\n",
              "      <td>E</td>\n",
              "    </tr>\n",
              "    <tr>\n",
              "      <th>5</th>\n",
              "      <td>5</td>\n",
              "      <td>4.0</td>\n",
              "      <td>6.0</td>\n",
              "      <td>0.0</td>\n",
              "      <td>0.0</td>\n",
              "      <td>58.0</td>\n",
              "      <td>30</td>\n",
              "      <td>F</td>\n",
              "    </tr>\n",
              "    <tr>\n",
              "      <th>6</th>\n",
              "      <td>6</td>\n",
              "      <td>2.0</td>\n",
              "      <td>1.0</td>\n",
              "      <td>0.0</td>\n",
              "      <td>0.0</td>\n",
              "      <td>11.0</td>\n",
              "      <td>100</td>\n",
              "      <td>G</td>\n",
              "    </tr>\n",
              "  </tbody>\n",
              "</table>\n",
              "</div>\n",
              "      <button class=\"colab-df-convert\" onclick=\"convertToInteractive('df-9b52ff53-21de-4178-b443-3c210bd989b1')\"\n",
              "              title=\"Convert this dataframe to an interactive table.\"\n",
              "              style=\"display:none;\">\n",
              "        \n",
              "  <svg xmlns=\"http://www.w3.org/2000/svg\" height=\"24px\"viewBox=\"0 0 24 24\"\n",
              "       width=\"24px\">\n",
              "    <path d=\"M0 0h24v24H0V0z\" fill=\"none\"/>\n",
              "    <path d=\"M18.56 5.44l.94 2.06.94-2.06 2.06-.94-2.06-.94-.94-2.06-.94 2.06-2.06.94zm-11 1L8.5 8.5l.94-2.06 2.06-.94-2.06-.94L8.5 2.5l-.94 2.06-2.06.94zm10 10l.94 2.06.94-2.06 2.06-.94-2.06-.94-.94-2.06-.94 2.06-2.06.94z\"/><path d=\"M17.41 7.96l-1.37-1.37c-.4-.4-.92-.59-1.43-.59-.52 0-1.04.2-1.43.59L10.3 9.45l-7.72 7.72c-.78.78-.78 2.05 0 2.83L4 21.41c.39.39.9.59 1.41.59.51 0 1.02-.2 1.41-.59l7.78-7.78 2.81-2.81c.8-.78.8-2.07 0-2.86zM5.41 20L4 18.59l7.72-7.72 1.47 1.35L5.41 20z\"/>\n",
              "  </svg>\n",
              "      </button>\n",
              "      \n",
              "  <style>\n",
              "    .colab-df-container {\n",
              "      display:flex;\n",
              "      flex-wrap:wrap;\n",
              "      gap: 12px;\n",
              "    }\n",
              "\n",
              "    .colab-df-convert {\n",
              "      background-color: #E8F0FE;\n",
              "      border: none;\n",
              "      border-radius: 50%;\n",
              "      cursor: pointer;\n",
              "      display: none;\n",
              "      fill: #1967D2;\n",
              "      height: 32px;\n",
              "      padding: 0 0 0 0;\n",
              "      width: 32px;\n",
              "    }\n",
              "\n",
              "    .colab-df-convert:hover {\n",
              "      background-color: #E2EBFA;\n",
              "      box-shadow: 0px 1px 2px rgba(60, 64, 67, 0.3), 0px 1px 3px 1px rgba(60, 64, 67, 0.15);\n",
              "      fill: #174EA6;\n",
              "    }\n",
              "\n",
              "    [theme=dark] .colab-df-convert {\n",
              "      background-color: #3B4455;\n",
              "      fill: #D2E3FC;\n",
              "    }\n",
              "\n",
              "    [theme=dark] .colab-df-convert:hover {\n",
              "      background-color: #434B5C;\n",
              "      box-shadow: 0px 1px 3px 1px rgba(0, 0, 0, 0.15);\n",
              "      filter: drop-shadow(0px 1px 2px rgba(0, 0, 0, 0.3));\n",
              "      fill: #FFFFFF;\n",
              "    }\n",
              "  </style>\n",
              "\n",
              "      <script>\n",
              "        const buttonEl =\n",
              "          document.querySelector('#df-9b52ff53-21de-4178-b443-3c210bd989b1 button.colab-df-convert');\n",
              "        buttonEl.style.display =\n",
              "          google.colab.kernel.accessAllowed ? 'block' : 'none';\n",
              "\n",
              "        async function convertToInteractive(key) {\n",
              "          const element = document.querySelector('#df-9b52ff53-21de-4178-b443-3c210bd989b1');\n",
              "          const dataTable =\n",
              "            await google.colab.kernel.invokeFunction('convertToInteractive',\n",
              "                                                     [key], {});\n",
              "          if (!dataTable) return;\n",
              "\n",
              "          const docLinkHtml = 'Like what you see? Visit the ' +\n",
              "            '<a target=\"_blank\" href=https://colab.research.google.com/notebooks/data_table.ipynb>data table notebook</a>'\n",
              "            + ' to learn more about interactive tables.';\n",
              "          element.innerHTML = '';\n",
              "          dataTable['output_type'] = 'display_data';\n",
              "          await google.colab.output.renderOutput(dataTable, element);\n",
              "          const docLink = document.createElement('div');\n",
              "          docLink.innerHTML = docLinkHtml;\n",
              "          element.appendChild(docLink);\n",
              "        }\n",
              "      </script>\n",
              "    </div>\n",
              "  </div>\n",
              "  "
            ]
          },
          "metadata": {},
          "execution_count": 30
        }
      ]
    },
    {
      "cell_type": "code",
      "source": [
        "attraction_env.inspect_data(items_type=\"tag\")"
      ],
      "metadata": {
        "id": "IvVDRgpLFAtG",
        "colab": {
          "base_uri": "https://localhost:8080/",
          "height": 144
        },
        "outputId": "4ad34aba-839a-4ff7-a1cb-44730a392070"
      },
      "execution_count": 31,
      "outputs": [
        {
          "output_type": "execute_result",
          "data": {
            "text/plain": [
              "   index    0    1  user_id  slate_id  rantional_user_val  E_s name\n",
              "0      0  4.0  4.5      0.0       0.0                44.5    5    I\n",
              "1      1  2.5  6.0      0.0       0.0                56.5    8    J\n",
              "2      2  4.5  5.0      0.0       0.0                49.5    3    K"
            ],
            "text/html": [
              "\n",
              "  <div id=\"df-594d27e4-6a07-4ba8-b805-a34fe5082f3e\">\n",
              "    <div class=\"colab-df-container\">\n",
              "      <div>\n",
              "<style scoped>\n",
              "    .dataframe tbody tr th:only-of-type {\n",
              "        vertical-align: middle;\n",
              "    }\n",
              "\n",
              "    .dataframe tbody tr th {\n",
              "        vertical-align: top;\n",
              "    }\n",
              "\n",
              "    .dataframe thead th {\n",
              "        text-align: right;\n",
              "    }\n",
              "</style>\n",
              "<table border=\"1\" class=\"dataframe\">\n",
              "  <thead>\n",
              "    <tr style=\"text-align: right;\">\n",
              "      <th></th>\n",
              "      <th>index</th>\n",
              "      <th>0</th>\n",
              "      <th>1</th>\n",
              "      <th>user_id</th>\n",
              "      <th>slate_id</th>\n",
              "      <th>rantional_user_val</th>\n",
              "      <th>E_s</th>\n",
              "      <th>name</th>\n",
              "    </tr>\n",
              "  </thead>\n",
              "  <tbody>\n",
              "    <tr>\n",
              "      <th>0</th>\n",
              "      <td>0</td>\n",
              "      <td>4.0</td>\n",
              "      <td>4.5</td>\n",
              "      <td>0.0</td>\n",
              "      <td>0.0</td>\n",
              "      <td>44.5</td>\n",
              "      <td>5</td>\n",
              "      <td>I</td>\n",
              "    </tr>\n",
              "    <tr>\n",
              "      <th>1</th>\n",
              "      <td>1</td>\n",
              "      <td>2.5</td>\n",
              "      <td>6.0</td>\n",
              "      <td>0.0</td>\n",
              "      <td>0.0</td>\n",
              "      <td>56.5</td>\n",
              "      <td>8</td>\n",
              "      <td>J</td>\n",
              "    </tr>\n",
              "    <tr>\n",
              "      <th>2</th>\n",
              "      <td>2</td>\n",
              "      <td>4.5</td>\n",
              "      <td>5.0</td>\n",
              "      <td>0.0</td>\n",
              "      <td>0.0</td>\n",
              "      <td>49.5</td>\n",
              "      <td>3</td>\n",
              "      <td>K</td>\n",
              "    </tr>\n",
              "  </tbody>\n",
              "</table>\n",
              "</div>\n",
              "      <button class=\"colab-df-convert\" onclick=\"convertToInteractive('df-594d27e4-6a07-4ba8-b805-a34fe5082f3e')\"\n",
              "              title=\"Convert this dataframe to an interactive table.\"\n",
              "              style=\"display:none;\">\n",
              "        \n",
              "  <svg xmlns=\"http://www.w3.org/2000/svg\" height=\"24px\"viewBox=\"0 0 24 24\"\n",
              "       width=\"24px\">\n",
              "    <path d=\"M0 0h24v24H0V0z\" fill=\"none\"/>\n",
              "    <path d=\"M18.56 5.44l.94 2.06.94-2.06 2.06-.94-2.06-.94-.94-2.06-.94 2.06-2.06.94zm-11 1L8.5 8.5l.94-2.06 2.06-.94-2.06-.94L8.5 2.5l-.94 2.06-2.06.94zm10 10l.94 2.06.94-2.06 2.06-.94-2.06-.94-.94-2.06-.94 2.06-2.06.94z\"/><path d=\"M17.41 7.96l-1.37-1.37c-.4-.4-.92-.59-1.43-.59-.52 0-1.04.2-1.43.59L10.3 9.45l-7.72 7.72c-.78.78-.78 2.05 0 2.83L4 21.41c.39.39.9.59 1.41.59.51 0 1.02-.2 1.41-.59l7.78-7.78 2.81-2.81c.8-.78.8-2.07 0-2.86zM5.41 20L4 18.59l7.72-7.72 1.47 1.35L5.41 20z\"/>\n",
              "  </svg>\n",
              "      </button>\n",
              "      \n",
              "  <style>\n",
              "    .colab-df-container {\n",
              "      display:flex;\n",
              "      flex-wrap:wrap;\n",
              "      gap: 12px;\n",
              "    }\n",
              "\n",
              "    .colab-df-convert {\n",
              "      background-color: #E8F0FE;\n",
              "      border: none;\n",
              "      border-radius: 50%;\n",
              "      cursor: pointer;\n",
              "      display: none;\n",
              "      fill: #1967D2;\n",
              "      height: 32px;\n",
              "      padding: 0 0 0 0;\n",
              "      width: 32px;\n",
              "    }\n",
              "\n",
              "    .colab-df-convert:hover {\n",
              "      background-color: #E2EBFA;\n",
              "      box-shadow: 0px 1px 2px rgba(60, 64, 67, 0.3), 0px 1px 3px 1px rgba(60, 64, 67, 0.15);\n",
              "      fill: #174EA6;\n",
              "    }\n",
              "\n",
              "    [theme=dark] .colab-df-convert {\n",
              "      background-color: #3B4455;\n",
              "      fill: #D2E3FC;\n",
              "    }\n",
              "\n",
              "    [theme=dark] .colab-df-convert:hover {\n",
              "      background-color: #434B5C;\n",
              "      box-shadow: 0px 1px 3px 1px rgba(0, 0, 0, 0.15);\n",
              "      filter: drop-shadow(0px 1px 2px rgba(0, 0, 0, 0.3));\n",
              "      fill: #FFFFFF;\n",
              "    }\n",
              "  </style>\n",
              "\n",
              "      <script>\n",
              "        const buttonEl =\n",
              "          document.querySelector('#df-594d27e4-6a07-4ba8-b805-a34fe5082f3e button.colab-df-convert');\n",
              "        buttonEl.style.display =\n",
              "          google.colab.kernel.accessAllowed ? 'block' : 'none';\n",
              "\n",
              "        async function convertToInteractive(key) {\n",
              "          const element = document.querySelector('#df-594d27e4-6a07-4ba8-b805-a34fe5082f3e');\n",
              "          const dataTable =\n",
              "            await google.colab.kernel.invokeFunction('convertToInteractive',\n",
              "                                                     [key], {});\n",
              "          if (!dataTable) return;\n",
              "\n",
              "          const docLinkHtml = 'Like what you see? Visit the ' +\n",
              "            '<a target=\"_blank\" href=https://colab.research.google.com/notebooks/data_table.ipynb>data table notebook</a>'\n",
              "            + ' to learn more about interactive tables.';\n",
              "          element.innerHTML = '';\n",
              "          dataTable['output_type'] = 'display_data';\n",
              "          await google.colab.output.renderOutput(dataTable, element);\n",
              "          const docLink = document.createElement('div');\n",
              "          docLink.innerHTML = docLinkHtml;\n",
              "          element.appendChild(docLink);\n",
              "        }\n",
              "      </script>\n",
              "    </div>\n",
              "  </div>\n",
              "  "
            ]
          },
          "metadata": {},
          "execution_count": 31
        }
      ]
    },
    {
      "cell_type": "markdown",
      "metadata": {
        "id": "TU5AUnijJ7Hq"
      },
      "source": [
        "1.1.2 Use ```generate_datasets``` method to print a table showing for each of Omega's items (rows) the true value and perceived value for the user (columns). save results to variable ```df```and print"
      ]
    },
    {
      "cell_type": "code",
      "metadata": {
        "id": "EsaQCFw0Y7_B",
        "colab": {
          "base_uri": "https://localhost:8080/"
        },
        "outputId": "e193b312-af36-4540-818b-1e6d54561ed3"
      },
      "source": [
        "df = attraction_env.generate_datasets()\n",
        "df\n",
        "print(type(df))"
      ],
      "execution_count": 33,
      "outputs": [
        {
          "output_type": "stream",
          "name": "stdout",
          "text": [
            "here1\n",
            "len(data) =  7\n",
            "observations_per_user =  50\n",
            "here2\n",
            "here3\n",
            "<class 'pandas.core.frame.DataFrame'>\n"
          ]
        }
      ]
    },
    {
      "cell_type": "markdown",
      "metadata": {
        "id": "O5kMKUejKZBj"
      },
      "source": [
        "1.1.3 Use \n",
        "```plot_omega``` method to plot all items in 2D space and highlights the top-5 items and the user's choice:"
      ]
    },
    {
      "cell_type": "code",
      "metadata": {
        "id": "fv3ga2KQbyXL",
        "colab": {
          "base_uri": "https://localhost:8080/",
          "height": 388
        },
        "outputId": "645b7589-c521-498e-d197-d5d733940ee8"
      },
      "source": [
        "attraction_env.plot_omega()"
      ],
      "execution_count": 7,
      "outputs": [
        {
          "output_type": "stream",
          "name": "stdout",
          "text": [
            "here1\n",
            "len(data) =  7\n",
            "observations_per_user =  50\n",
            "here2\n",
            "here3\n"
          ]
        },
        {
          "output_type": "display_data",
          "data": {
            "text/plain": [
              "<Figure size 432x288 with 1 Axes>"
            ],
            "image/png": "[encoded data removed]"
          },
          "metadata": {
            "image/png": {
              "width": 377,
              "height": 284
            },
            "needs_background": "light"
          }
        }
      ]
    },
    {
      "cell_type": "markdown",
      "metadata": {
        "id": "I8ec9tKqbyE_"
      },
      "source": [
        "In the above plot, items in $\\Omega$ are dots. Top-5 items that are currently selected from $\\omega$ are colored red, and all others are blue. The chosen item has a black border.\n",
        "\n",
        "Some things to note:\n",
        "* Items C and D are dominated by E and F (make sure you understand what this means, and why it holds).\n",
        "* User chooses item E, meaning it has the highest perceived value. However, item E also does not have the highest true value, and so the user is happy.\n",
        "* The value to the system form the user choosing item E is $e_E=20$."
      ]
    },
    {
      "cell_type": "markdown",
      "metadata": {
        "id": "HvRnRCRxLo4p"
      },
      "source": [
        "1.1.4 \n",
        "What can you do to improve the system's utility?\n",
        "The next block of code plots items in both $\\Omega$ and $\\Omega'$ in 2D space:"
      ]
    },
    {
      "cell_type": "code",
      "metadata": {
        "id": "nouCbut-50U4",
        "colab": {
          "base_uri": "https://localhost:8080/",
          "height": 301
        },
        "outputId": "f99c8a0a-d0cb-409b-c1b3-089a7130bd43"
      },
      "source": [
        "attraction_env.plot_two_sets()"
      ],
      "execution_count": 8,
      "outputs": [
        {
          "output_type": "display_data",
          "data": {
            "text/plain": [
              "<Figure size 432x288 with 1 Axes>"
            ],
            "image/png": "[encoded data removed]"
          },
          "metadata": {
            "image/png": {
              "width": 377,
              "height": 284
            },
            "needs_background": "light"
          }
        }
      ]
    },
    {
      "cell_type": "markdown",
      "metadata": {
        "id": "StRfUYsT_cOt"
      },
      "source": [
        "Examine the plot. Using your knowledge about how the attraction effect works, think: if you are allowed to add one item from $\\Omega'$ to $\\Omega$, and if you are interested in maximizing system utility - which item would you add?\n",
        "\n",
        "Write your answer, and provide an explanation for your choice."
      ]
    },
    {
      "cell_type": "code",
      "metadata": {
        "id": "-MytTnCPLhL4",
        "colab": {
          "base_uri": "https://localhost:8080/",
          "height": 71
        },
        "outputId": "11589634-4c0c-4b79-cc8c-c7e95d874e09"
      },
      "source": [
        "\"\"\"Answer:\n",
        "The item we would add is\n",
        "        The item named J=(2.5, 6)\n",
        "\"\"\"\n",
        "\n",
        "\"\"\"The reason is:\n",
        "First observation: all points in Omega_tag eliminate D from the top-5 element values choice and replace it in this set.\n",
        "Second observation: Our selection so far is point E.\n",
        "        1. Item I is dominated by E whereas only so it will enlarge his attrcation and hinder the rest of the items' attraction, making our choice to remain E (sub-optimal for the system's utility)\n",
        "        2. Item K gives attraction 0 for all points, making our choice to remain E (sub-optimal for the system's utility)\n",
        "        3. Finally, J benefits the attraction of point B (and benefits noithing to point E) just enough so that now point B is chosen over E. \n",
        "        \n",
        "    B's system utility is 80 ! much better than the system utility of 20 we got from point E.\n",
        "\"\"\"\n"
      ],
      "execution_count": 9,
      "outputs": [
        {
          "output_type": "execute_result",
          "data": {
            "text/plain": [
              "\"The reason is:\\nFirst observation: all points in Omega_tag eliminate D from the top-5 element values choice and replace it in this set.\\nSecond observation: Our selection so far is point E.\\n        1. Item I is dominated by E whereas only so it will enlarge his attrcation and hinder the rest of the items' attraction, making our choice to remain E (sub-optimal for the system's utility)\\n        2. Item K gives attraction 0 for all points, making our choice to remain E (sub-optimal for the system's utility)\\n        3. Finally, J benefits the attraction of point B (and benefits noithing to point E) just enough so that now point B is chosen over E. \\n        \\n    B's system utility is 80 ! much better than the system utility of 20 we got from point E.\\n\""
            ],
            "application/vnd.google.colaboratory.intrinsic+json": {
              "type": "string"
            }
          },
          "metadata": {},
          "execution_count": 9
        }
      ]
    },
    {
      "cell_type": "markdown",
      "metadata": {
        "id": "4P8NeR5FKwKs"
      },
      "source": [
        "1.1.5 Next, let's examine what happens when we add $H$ to $\\Omega$:"
      ]
    },
    {
      "cell_type": "code",
      "metadata": {
        "id": "ENJ--nAxxg3h",
        "colab": {
          "base_uri": "https://localhost:8080/",
          "height": 388
        },
        "outputId": "26032d07-ff38-4184-ab3d-24ee22706eb6"
      },
      "source": [
        "# plot over scatter\n",
        "# Add new item to S\n",
        "index = 1 #this is the index of H in Omega'\n",
        "attraction_env.add_item(index=index)\n",
        "\n",
        "attraction_env.plot_omega()"
      ],
      "execution_count": 10,
      "outputs": [
        {
          "output_type": "stream",
          "name": "stdout",
          "text": [
            "here1\n",
            "len(data) =  8\n",
            "observations_per_user =  50\n",
            "here2\n",
            "here3\n"
          ]
        },
        {
          "output_type": "display_data",
          "data": {
            "text/plain": [
              "<Figure size 432x288 with 1 Axes>"
            ],
            "image/png": "[encoded data removed]"
          },
          "metadata": {
            "image/png": {
              "width": 377,
              "height": 284
            },
            "needs_background": "light"
          }
        }
      ]
    },
    {
      "cell_type": "markdown",
      "metadata": {
        "id": "5komX9WBOG1H"
      },
      "source": [
        "Print a table of true value, perceived value, and system utility for all top-5 items:"
      ]
    },
    {
      "cell_type": "code",
      "metadata": {
        "id": "hazEJbG6OM2M",
        "colab": {
          "base_uri": "https://localhost:8080/",
          "height": 293
        },
        "outputId": "03e90323-a9c0-47be-c2c8-2f1ee2572c64"
      },
      "source": [
        "df_new = attraction_env.generate_datasets()\n",
        "df_new.loc[df_new['top_5']]"
      ],
      "execution_count": 11,
      "outputs": [
        {
          "output_type": "stream",
          "name": "stdout",
          "text": [
            "here1\n",
            "len(data) =  8\n",
            "observations_per_user =  50\n",
            "here2\n",
            "here3\n"
          ]
        },
        {
          "output_type": "execute_result",
          "data": {
            "text/plain": [
              "   index     0    1  user_id  slate_id name  rantional_user_val  top_5  \\\n",
              "1      1   3.0  7.5      0.0       0.0    B                70.5   True   \n",
              "2      2   3.0  5.0      0.0       0.0    C                48.0   True   \n",
              "4      4  10.0  5.0      0.0       0.0    E                55.0   True   \n",
              "5      5   4.0  6.0      0.0       0.0    F                58.0   True   \n",
              "7      7   2.5  6.0      0.0       0.0    H                56.5   True   \n",
              "\n",
              "   perceived_val  chosen  \n",
              "1      75.717758       1  \n",
              "2      21.911209       0  \n",
              "4      74.922349       0  \n",
              "5      66.063808       0  \n",
              "7      49.384875       0  "
            ],
            "text/html": [
              "\n",
              "  <div id=\"df-c9b4845f-e27f-4c46-9776-62242d6e508c\">\n",
              "    <div class=\"colab-df-container\">\n",
              "      <div>\n",
              "<style scoped>\n",
              "    .dataframe tbody tr th:only-of-type {\n",
              "        vertical-align: middle;\n",
              "    }\n",
              "\n",
              "    .dataframe tbody tr th {\n",
              "        vertical-align: top;\n",
              "    }\n",
              "\n",
              "    .dataframe thead th {\n",
              "        text-align: right;\n",
              "    }\n",
              "</style>\n",
              "<table border=\"1\" class=\"dataframe\">\n",
              "  <thead>\n",
              "    <tr style=\"text-align: right;\">\n",
              "      <th></th>\n",
              "      <th>index</th>\n",
              "      <th>0</th>\n",
              "      <th>1</th>\n",
              "      <th>user_id</th>\n",
              "      <th>slate_id</th>\n",
              "      <th>name</th>\n",
              "      <th>rantional_user_val</th>\n",
              "      <th>top_5</th>\n",
              "      <th>perceived_val</th>\n",
              "      <th>chosen</th>\n",
              "    </tr>\n",
              "  </thead>\n",
              "  <tbody>\n",
              "    <tr>\n",
              "      <th>1</th>\n",
              "      <td>1</td>\n",
              "      <td>3.0</td>\n",
              "      <td>7.5</td>\n",
              "      <td>0.0</td>\n",
              "      <td>0.0</td>\n",
              "      <td>B</td>\n",
              "      <td>70.5</td>\n",
              "      <td>True</td>\n",
              "      <td>75.717758</td>\n",
              "      <td>1</td>\n",
              "    </tr>\n",
              "    <tr>\n",
              "      <th>2</th>\n",
              "      <td>2</td>\n",
              "      <td>3.0</td>\n",
              "      <td>5.0</td>\n",
              "      <td>0.0</td>\n",
              "      <td>0.0</td>\n",
              "      <td>C</td>\n",
              "      <td>48.0</td>\n",
              "      <td>True</td>\n",
              "      <td>21.911209</td>\n",
              "      <td>0</td>\n",
              "    </tr>\n",
              "    <tr>\n",
              "      <th>4</th>\n",
              "      <td>4</td>\n",
              "      <td>10.0</td>\n",
              "      <td>5.0</td>\n",
              "      <td>0.0</td>\n",
              "      <td>0.0</td>\n",
              "      <td>E</td>\n",
              "      <td>55.0</td>\n",
              "      <td>True</td>\n",
              "      <td>74.922349</td>\n",
              "      <td>0</td>\n",
              "    </tr>\n",
              "    <tr>\n",
              "      <th>5</th>\n",
              "      <td>5</td>\n",
              "      <td>4.0</td>\n",
              "      <td>6.0</td>\n",
              "      <td>0.0</td>\n",
              "      <td>0.0</td>\n",
              "      <td>F</td>\n",
              "      <td>58.0</td>\n",
              "      <td>True</td>\n",
              "      <td>66.063808</td>\n",
              "      <td>0</td>\n",
              "    </tr>\n",
              "    <tr>\n",
              "      <th>7</th>\n",
              "      <td>7</td>\n",
              "      <td>2.5</td>\n",
              "      <td>6.0</td>\n",
              "      <td>0.0</td>\n",
              "      <td>0.0</td>\n",
              "      <td>H</td>\n",
              "      <td>56.5</td>\n",
              "      <td>True</td>\n",
              "      <td>49.384875</td>\n",
              "      <td>0</td>\n",
              "    </tr>\n",
              "  </tbody>\n",
              "</table>\n",
              "</div>\n",
              "      <button class=\"colab-df-convert\" onclick=\"convertToInteractive('df-c9b4845f-e27f-4c46-9776-62242d6e508c')\"\n",
              "              title=\"Convert this dataframe to an interactive table.\"\n",
              "              style=\"display:none;\">\n",
              "        \n",
              "  <svg xmlns=\"http://www.w3.org/2000/svg\" height=\"24px\"viewBox=\"0 0 24 24\"\n",
              "       width=\"24px\">\n",
              "    <path d=\"M0 0h24v24H0V0z\" fill=\"none\"/>\n",
              "    <path d=\"M18.56 5.44l.94 2.06.94-2.06 2.06-.94-2.06-.94-.94-2.06-.94 2.06-2.06.94zm-11 1L8.5 8.5l.94-2.06 2.06-.94-2.06-.94L8.5 2.5l-.94 2.06-2.06.94zm10 10l.94 2.06.94-2.06 2.06-.94-2.06-.94-.94-2.06-.94 2.06-2.06.94z\"/><path d=\"M17.41 7.96l-1.37-1.37c-.4-.4-.92-.59-1.43-.59-.52 0-1.04.2-1.43.59L10.3 9.45l-7.72 7.72c-.78.78-.78 2.05 0 2.83L4 21.41c.39.39.9.59 1.41.59.51 0 1.02-.2 1.41-.59l7.78-7.78 2.81-2.81c.8-.78.8-2.07 0-2.86zM5.41 20L4 18.59l7.72-7.72 1.47 1.35L5.41 20z\"/>\n",
              "  </svg>\n",
              "      </button>\n",
              "      \n",
              "  <style>\n",
              "    .colab-df-container {\n",
              "      display:flex;\n",
              "      flex-wrap:wrap;\n",
              "      gap: 12px;\n",
              "    }\n",
              "\n",
              "    .colab-df-convert {\n",
              "      background-color: #E8F0FE;\n",
              "      border: none;\n",
              "      border-radius: 50%;\n",
              "      cursor: pointer;\n",
              "      display: none;\n",
              "      fill: #1967D2;\n",
              "      height: 32px;\n",
              "      padding: 0 0 0 0;\n",
              "      width: 32px;\n",
              "    }\n",
              "\n",
              "    .colab-df-convert:hover {\n",
              "      background-color: #E2EBFA;\n",
              "      box-shadow: 0px 1px 2px rgba(60, 64, 67, 0.3), 0px 1px 3px 1px rgba(60, 64, 67, 0.15);\n",
              "      fill: #174EA6;\n",
              "    }\n",
              "\n",
              "    [theme=dark] .colab-df-convert {\n",
              "      background-color: #3B4455;\n",
              "      fill: #D2E3FC;\n",
              "    }\n",
              "\n",
              "    [theme=dark] .colab-df-convert:hover {\n",
              "      background-color: #434B5C;\n",
              "      box-shadow: 0px 1px 3px 1px rgba(0, 0, 0, 0.15);\n",
              "      filter: drop-shadow(0px 1px 2px rgba(0, 0, 0, 0.3));\n",
              "      fill: #FFFFFF;\n",
              "    }\n",
              "  </style>\n",
              "\n",
              "      <script>\n",
              "        const buttonEl =\n",
              "          document.querySelector('#df-c9b4845f-e27f-4c46-9776-62242d6e508c button.colab-df-convert');\n",
              "        buttonEl.style.display =\n",
              "          google.colab.kernel.accessAllowed ? 'block' : 'none';\n",
              "\n",
              "        async function convertToInteractive(key) {\n",
              "          const element = document.querySelector('#df-c9b4845f-e27f-4c46-9776-62242d6e508c');\n",
              "          const dataTable =\n",
              "            await google.colab.kernel.invokeFunction('convertToInteractive',\n",
              "                                                     [key], {});\n",
              "          if (!dataTable) return;\n",
              "\n",
              "          const docLinkHtml = 'Like what you see? Visit the ' +\n",
              "            '<a target=\"_blank\" href=https://colab.research.google.com/notebooks/data_table.ipynb>data table notebook</a>'\n",
              "            + ' to learn more about interactive tables.';\n",
              "          element.innerHTML = '';\n",
              "          dataTable['output_type'] = 'display_data';\n",
              "          await google.colab.output.renderOutput(dataTable, element);\n",
              "          const docLink = document.createElement('div');\n",
              "          docLink.innerHTML = docLinkHtml;\n",
              "          element.appendChild(docLink);\n",
              "        }\n",
              "      </script>\n",
              "    </div>\n",
              "  </div>\n",
              "  "
            ]
          },
          "metadata": {},
          "execution_count": 11
        }
      ]
    },
    {
      "cell_type": "markdown",
      "metadata": {
        "id": "xmZMvrLZysAp"
      },
      "source": [
        "Notice how $H$ contributed to the perceived value of $B$, just enough to make it more appealing than $E$.\n",
        "\n",
        "Congrats! The system now gets $e_B=80$ utility! (recall it was 20 before) - And we saved the user from her own bias!"
      ]
    },
    {
      "cell_type": "markdown",
      "metadata": {
        "id": "G1Dy6n1Rp54D"
      },
      "source": [
        "1.1.6 Finally, let's compute:\n",
        "* welfare - this is the actual value to the user from choice\n",
        "* regret - this is the gap between the percieved value and true value of the chosen item\n",
        "(if there were more than one user, we would measure the average).\n",
        "\n",
        "Run the following code blocks and print welfare and regret for Omega before and after adding the additional item.\n"
      ]
    },
    {
      "cell_type": "code",
      "metadata": {
        "id": "rBtm0A21y9_y",
        "colab": {
          "base_uri": "https://localhost:8080/"
        },
        "outputId": "a2860fd9-ed41-4156-9552-fcd694c2a415"
      },
      "source": [
        "# welfare\n",
        "def welfare(df, value_column = 'rantional_user_val', choice_column = 'chosen'):\n",
        "    chosen_item = df[df[choice_column] == 1]\n",
        "    welfare = chosen_item[value_column].iloc[0]\n",
        "    return welfare\n",
        "\n",
        "## YOUR SOLUTION\n",
        "welfare_before = welfare(df)\n",
        "welfare_after = welfare(df_new)\n",
        "\n",
        "print(f'welfare before adding additional item = {welfare_before} \\n\\\n",
        "welfare after adding additional item = {welfare_after}')\n"
      ],
      "execution_count": 12,
      "outputs": [
        {
          "output_type": "stream",
          "name": "stdout",
          "text": [
            "welfare before adding additional item = 55.0 \n",
            "welfare after adding additional item = 70.5\n"
          ]
        }
      ]
    },
    {
      "cell_type": "code",
      "metadata": {
        "id": "yJDwXClI9uCX",
        "colab": {
          "base_uri": "https://localhost:8080/"
        },
        "outputId": "1a8d60cc-fe0b-49f7-ebdc-3b2d24f65429"
      },
      "source": [
        "# regret\n",
        "def regret(df, true_value_column = 'rantional_user_val', \n",
        "           percieved_value_column = 'perceived_val', choice_column = 'chosen'):\n",
        "    chosen_item = df[df[choice_column] == 1]\n",
        "    regret = chosen_item[percieved_value_column].iloc[0] - chosen_item[true_value_column].iloc[0]\n",
        "    return regret\n",
        "\n",
        "## YOUR SOLUTION\n",
        "regret_before = regret(df)\n",
        "regret_after = regret(df_new)\n",
        "\n",
        "\n",
        "print(f'regret before adding additional item = {regret_before} \\n \\\n",
        "regret after adding additional item = {regret_after}') "
      ],
      "execution_count": 13,
      "outputs": [
        {
          "output_type": "stream",
          "name": "stdout",
          "text": [
            "regret before adding additional item = 36.2243012354966 \n",
            " regret after adding additional item = 5.217758139277819\n"
          ]
        }
      ]
    },
    {
      "cell_type": "markdown",
      "metadata": {
        "id": "AM8nQec-zEDN"
      },
      "source": [
        "### 1.2 **Now You: Find an item to add without any guidance**\n",
        "\n",
        "In this section, your goal is to repeat the task of finding an item to add, but without guidance - we will just give you the sets $\\Omega$ and $\\Omega'$.\n"
      ]
    },
    {
      "cell_type": "code",
      "metadata": {
        "id": "uO3zDK4DzHCn",
        "colab": {
          "base_uri": "https://localhost:8080/",
          "height": 0
        },
        "outputId": "b0f918b1-eee3-4c74-be6c-78779a23bf73"
      },
      "source": [
        "# New data:\n",
        "attraction_env = ContextChoiceEnvironment(slate_number=2)\n",
        "attraction_env.inspect_data(items_type=\"current\")"
      ],
      "execution_count": 14,
      "outputs": [
        {
          "output_type": "execute_result",
          "data": {
            "text/plain": [
              "   index     0    1  user_id  slate_id  rantional_user_val  E_s name\n",
              "0      0   3.0  8.0      0.0       0.0                75.0   10    A\n",
              "1      1   8.0  7.0      0.0       0.0                71.0   90    B\n",
              "2      2   8.5  4.0      0.0       0.0                44.5   30    C\n",
              "3      3   4.0  4.0      0.0       0.0                40.0   50    D\n",
              "4      4  10.0  5.0      0.0       0.0                55.0   30    E\n",
              "5      5   8.0  6.0      0.0       0.0                62.0   40    F\n",
              "6      6   2.0  1.0      0.0       0.0                11.0  100    G\n",
              "7      7   1.0  8.0      0.0       0.0                73.0   90    H"
            ],
            "text/html": [
              "\n",
              "  <div id=\"df-639d5ed6-765b-4a47-b68d-f266a160689d\">\n",
              "    <div class=\"colab-df-container\">\n",
              "      <div>\n",
              "<style scoped>\n",
              "    .dataframe tbody tr th:only-of-type {\n",
              "        vertical-align: middle;\n",
              "    }\n",
              "\n",
              "    .dataframe tbody tr th {\n",
              "        vertical-align: top;\n",
              "    }\n",
              "\n",
              "    .dataframe thead th {\n",
              "        text-align: right;\n",
              "    }\n",
              "</style>\n",
              "<table border=\"1\" class=\"dataframe\">\n",
              "  <thead>\n",
              "    <tr style=\"text-align: right;\">\n",
              "      <th></th>\n",
              "      <th>index</th>\n",
              "      <th>0</th>\n",
              "      <th>1</th>\n",
              "      <th>user_id</th>\n",
              "      <th>slate_id</th>\n",
              "      <th>rantional_user_val</th>\n",
              "      <th>E_s</th>\n",
              "      <th>name</th>\n",
              "    </tr>\n",
              "  </thead>\n",
              "  <tbody>\n",
              "    <tr>\n",
              "      <th>0</th>\n",
              "      <td>0</td>\n",
              "      <td>3.0</td>\n",
              "      <td>8.0</td>\n",
              "      <td>0.0</td>\n",
              "      <td>0.0</td>\n",
              "      <td>75.0</td>\n",
              "      <td>10</td>\n",
              "      <td>A</td>\n",
              "    </tr>\n",
              "    <tr>\n",
              "      <th>1</th>\n",
              "      <td>1</td>\n",
              "      <td>8.0</td>\n",
              "      <td>7.0</td>\n",
              "      <td>0.0</td>\n",
              "      <td>0.0</td>\n",
              "      <td>71.0</td>\n",
              "      <td>90</td>\n",
              "      <td>B</td>\n",
              "    </tr>\n",
              "    <tr>\n",
              "      <th>2</th>\n",
              "      <td>2</td>\n",
              "      <td>8.5</td>\n",
              "      <td>4.0</td>\n",
              "      <td>0.0</td>\n",
              "      <td>0.0</td>\n",
              "      <td>44.5</td>\n",
              "      <td>30</td>\n",
              "      <td>C</td>\n",
              "    </tr>\n",
              "    <tr>\n",
              "      <th>3</th>\n",
              "      <td>3</td>\n",
              "      <td>4.0</td>\n",
              "      <td>4.0</td>\n",
              "      <td>0.0</td>\n",
              "      <td>0.0</td>\n",
              "      <td>40.0</td>\n",
              "      <td>50</td>\n",
              "      <td>D</td>\n",
              "    </tr>\n",
              "    <tr>\n",
              "      <th>4</th>\n",
              "      <td>4</td>\n",
              "      <td>10.0</td>\n",
              "      <td>5.0</td>\n",
              "      <td>0.0</td>\n",
              "      <td>0.0</td>\n",
              "      <td>55.0</td>\n",
              "      <td>30</td>\n",
              "      <td>E</td>\n",
              "    </tr>\n",
              "    <tr>\n",
              "      <th>5</th>\n",
              "      <td>5</td>\n",
              "      <td>8.0</td>\n",
              "      <td>6.0</td>\n",
              "      <td>0.0</td>\n",
              "      <td>0.0</td>\n",
              "      <td>62.0</td>\n",
              "      <td>40</td>\n",
              "      <td>F</td>\n",
              "    </tr>\n",
              "    <tr>\n",
              "      <th>6</th>\n",
              "      <td>6</td>\n",
              "      <td>2.0</td>\n",
              "      <td>1.0</td>\n",
              "      <td>0.0</td>\n",
              "      <td>0.0</td>\n",
              "      <td>11.0</td>\n",
              "      <td>100</td>\n",
              "      <td>G</td>\n",
              "    </tr>\n",
              "    <tr>\n",
              "      <th>7</th>\n",
              "      <td>7</td>\n",
              "      <td>1.0</td>\n",
              "      <td>8.0</td>\n",
              "      <td>0.0</td>\n",
              "      <td>0.0</td>\n",
              "      <td>73.0</td>\n",
              "      <td>90</td>\n",
              "      <td>H</td>\n",
              "    </tr>\n",
              "  </tbody>\n",
              "</table>\n",
              "</div>\n",
              "      <button class=\"colab-df-convert\" onclick=\"convertToInteractive('df-639d5ed6-765b-4a47-b68d-f266a160689d')\"\n",
              "              title=\"Convert this dataframe to an interactive table.\"\n",
              "              style=\"display:none;\">\n",
              "        \n",
              "  <svg xmlns=\"http://www.w3.org/2000/svg\" height=\"24px\"viewBox=\"0 0 24 24\"\n",
              "       width=\"24px\">\n",
              "    <path d=\"M0 0h24v24H0V0z\" fill=\"none\"/>\n",
              "    <path d=\"M18.56 5.44l.94 2.06.94-2.06 2.06-.94-2.06-.94-.94-2.06-.94 2.06-2.06.94zm-11 1L8.5 8.5l.94-2.06 2.06-.94-2.06-.94L8.5 2.5l-.94 2.06-2.06.94zm10 10l.94 2.06.94-2.06 2.06-.94-2.06-.94-.94-2.06-.94 2.06-2.06.94z\"/><path d=\"M17.41 7.96l-1.37-1.37c-.4-.4-.92-.59-1.43-.59-.52 0-1.04.2-1.43.59L10.3 9.45l-7.72 7.72c-.78.78-.78 2.05 0 2.83L4 21.41c.39.39.9.59 1.41.59.51 0 1.02-.2 1.41-.59l7.78-7.78 2.81-2.81c.8-.78.8-2.07 0-2.86zM5.41 20L4 18.59l7.72-7.72 1.47 1.35L5.41 20z\"/>\n",
              "  </svg>\n",
              "      </button>\n",
              "      \n",
              "  <style>\n",
              "    .colab-df-container {\n",
              "      display:flex;\n",
              "      flex-wrap:wrap;\n",
              "      gap: 12px;\n",
              "    }\n",
              "\n",
              "    .colab-df-convert {\n",
              "      background-color: #E8F0FE;\n",
              "      border: none;\n",
              "      border-radius: 50%;\n",
              "      cursor: pointer;\n",
              "      display: none;\n",
              "      fill: #1967D2;\n",
              "      height: 32px;\n",
              "      padding: 0 0 0 0;\n",
              "      width: 32px;\n",
              "    }\n",
              "\n",
              "    .colab-df-convert:hover {\n",
              "      background-color: #E2EBFA;\n",
              "      box-shadow: 0px 1px 2px rgba(60, 64, 67, 0.3), 0px 1px 3px 1px rgba(60, 64, 67, 0.15);\n",
              "      fill: #174EA6;\n",
              "    }\n",
              "\n",
              "    [theme=dark] .colab-df-convert {\n",
              "      background-color: #3B4455;\n",
              "      fill: #D2E3FC;\n",
              "    }\n",
              "\n",
              "    [theme=dark] .colab-df-convert:hover {\n",
              "      background-color: #434B5C;\n",
              "      box-shadow: 0px 1px 3px 1px rgba(0, 0, 0, 0.15);\n",
              "      filter: drop-shadow(0px 1px 2px rgba(0, 0, 0, 0.3));\n",
              "      fill: #FFFFFF;\n",
              "    }\n",
              "  </style>\n",
              "\n",
              "      <script>\n",
              "        const buttonEl =\n",
              "          document.querySelector('#df-639d5ed6-765b-4a47-b68d-f266a160689d button.colab-df-convert');\n",
              "        buttonEl.style.display =\n",
              "          google.colab.kernel.accessAllowed ? 'block' : 'none';\n",
              "\n",
              "        async function convertToInteractive(key) {\n",
              "          const element = document.querySelector('#df-639d5ed6-765b-4a47-b68d-f266a160689d');\n",
              "          const dataTable =\n",
              "            await google.colab.kernel.invokeFunction('convertToInteractive',\n",
              "                                                     [key], {});\n",
              "          if (!dataTable) return;\n",
              "\n",
              "          const docLinkHtml = 'Like what you see? Visit the ' +\n",
              "            '<a target=\"_blank\" href=https://colab.research.google.com/notebooks/data_table.ipynb>data table notebook</a>'\n",
              "            + ' to learn more about interactive tables.';\n",
              "          element.innerHTML = '';\n",
              "          dataTable['output_type'] = 'display_data';\n",
              "          await google.colab.output.renderOutput(dataTable, element);\n",
              "          const docLink = document.createElement('div');\n",
              "          docLink.innerHTML = docLinkHtml;\n",
              "          element.appendChild(docLink);\n",
              "        }\n",
              "      </script>\n",
              "    </div>\n",
              "  </div>\n",
              "  "
            ]
          },
          "metadata": {},
          "execution_count": 14
        }
      ]
    },
    {
      "cell_type": "code",
      "source": [
        "attraction_env.inspect_data(items_type=\"tag\")"
      ],
      "metadata": {
        "id": "Y5ZyQ8lJa5Mt",
        "colab": {
          "base_uri": "https://localhost:8080/",
          "height": 0
        },
        "outputId": "799371c0-6606-4ff9-8c54-bd64e4164327"
      },
      "execution_count": 15,
      "outputs": [
        {
          "output_type": "execute_result",
          "data": {
            "text/plain": [
              "   index    0    1  user_id  slate_id  rantional_user_val  E_s name\n",
              "0      0  4.0  8.0      0.0       0.0                76.0    5    J\n",
              "1      1  3.0  6.0      0.0       0.0                57.0    8    K\n",
              "2      2  4.5  5.0      0.0       0.0                49.5    3    L\n",
              "3      3  6.0  6.0      0.0       0.0                60.0    9    M"
            ],
            "text/html": [
              "\n",
              "  <div id=\"df-032439f5-225a-4a9f-92b2-1d218d60f881\">\n",
              "    <div class=\"colab-df-container\">\n",
              "      <div>\n",
              "<style scoped>\n",
              "    .dataframe tbody tr th:only-of-type {\n",
              "        vertical-align: middle;\n",
              "    }\n",
              "\n",
              "    .dataframe tbody tr th {\n",
              "        vertical-align: top;\n",
              "    }\n",
              "\n",
              "    .dataframe thead th {\n",
              "        text-align: right;\n",
              "    }\n",
              "</style>\n",
              "<table border=\"1\" class=\"dataframe\">\n",
              "  <thead>\n",
              "    <tr style=\"text-align: right;\">\n",
              "      <th></th>\n",
              "      <th>index</th>\n",
              "      <th>0</th>\n",
              "      <th>1</th>\n",
              "      <th>user_id</th>\n",
              "      <th>slate_id</th>\n",
              "      <th>rantional_user_val</th>\n",
              "      <th>E_s</th>\n",
              "      <th>name</th>\n",
              "    </tr>\n",
              "  </thead>\n",
              "  <tbody>\n",
              "    <tr>\n",
              "      <th>0</th>\n",
              "      <td>0</td>\n",
              "      <td>4.0</td>\n",
              "      <td>8.0</td>\n",
              "      <td>0.0</td>\n",
              "      <td>0.0</td>\n",
              "      <td>76.0</td>\n",
              "      <td>5</td>\n",
              "      <td>J</td>\n",
              "    </tr>\n",
              "    <tr>\n",
              "      <th>1</th>\n",
              "      <td>1</td>\n",
              "      <td>3.0</td>\n",
              "      <td>6.0</td>\n",
              "      <td>0.0</td>\n",
              "      <td>0.0</td>\n",
              "      <td>57.0</td>\n",
              "      <td>8</td>\n",
              "      <td>K</td>\n",
              "    </tr>\n",
              "    <tr>\n",
              "      <th>2</th>\n",
              "      <td>2</td>\n",
              "      <td>4.5</td>\n",
              "      <td>5.0</td>\n",
              "      <td>0.0</td>\n",
              "      <td>0.0</td>\n",
              "      <td>49.5</td>\n",
              "      <td>3</td>\n",
              "      <td>L</td>\n",
              "    </tr>\n",
              "    <tr>\n",
              "      <th>3</th>\n",
              "      <td>3</td>\n",
              "      <td>6.0</td>\n",
              "      <td>6.0</td>\n",
              "      <td>0.0</td>\n",
              "      <td>0.0</td>\n",
              "      <td>60.0</td>\n",
              "      <td>9</td>\n",
              "      <td>M</td>\n",
              "    </tr>\n",
              "  </tbody>\n",
              "</table>\n",
              "</div>\n",
              "      <button class=\"colab-df-convert\" onclick=\"convertToInteractive('df-032439f5-225a-4a9f-92b2-1d218d60f881')\"\n",
              "              title=\"Convert this dataframe to an interactive table.\"\n",
              "              style=\"display:none;\">\n",
              "        \n",
              "  <svg xmlns=\"http://www.w3.org/2000/svg\" height=\"24px\"viewBox=\"0 0 24 24\"\n",
              "       width=\"24px\">\n",
              "    <path d=\"M0 0h24v24H0V0z\" fill=\"none\"/>\n",
              "    <path d=\"M18.56 5.44l.94 2.06.94-2.06 2.06-.94-2.06-.94-.94-2.06-.94 2.06-2.06.94zm-11 1L8.5 8.5l.94-2.06 2.06-.94-2.06-.94L8.5 2.5l-.94 2.06-2.06.94zm10 10l.94 2.06.94-2.06 2.06-.94-2.06-.94-.94-2.06-.94 2.06-2.06.94z\"/><path d=\"M17.41 7.96l-1.37-1.37c-.4-.4-.92-.59-1.43-.59-.52 0-1.04.2-1.43.59L10.3 9.45l-7.72 7.72c-.78.78-.78 2.05 0 2.83L4 21.41c.39.39.9.59 1.41.59.51 0 1.02-.2 1.41-.59l7.78-7.78 2.81-2.81c.8-.78.8-2.07 0-2.86zM5.41 20L4 18.59l7.72-7.72 1.47 1.35L5.41 20z\"/>\n",
              "  </svg>\n",
              "      </button>\n",
              "      \n",
              "  <style>\n",
              "    .colab-df-container {\n",
              "      display:flex;\n",
              "      flex-wrap:wrap;\n",
              "      gap: 12px;\n",
              "    }\n",
              "\n",
              "    .colab-df-convert {\n",
              "      background-color: #E8F0FE;\n",
              "      border: none;\n",
              "      border-radius: 50%;\n",
              "      cursor: pointer;\n",
              "      display: none;\n",
              "      fill: #1967D2;\n",
              "      height: 32px;\n",
              "      padding: 0 0 0 0;\n",
              "      width: 32px;\n",
              "    }\n",
              "\n",
              "    .colab-df-convert:hover {\n",
              "      background-color: #E2EBFA;\n",
              "      box-shadow: 0px 1px 2px rgba(60, 64, 67, 0.3), 0px 1px 3px 1px rgba(60, 64, 67, 0.15);\n",
              "      fill: #174EA6;\n",
              "    }\n",
              "\n",
              "    [theme=dark] .colab-df-convert {\n",
              "      background-color: #3B4455;\n",
              "      fill: #D2E3FC;\n",
              "    }\n",
              "\n",
              "    [theme=dark] .colab-df-convert:hover {\n",
              "      background-color: #434B5C;\n",
              "      box-shadow: 0px 1px 3px 1px rgba(0, 0, 0, 0.15);\n",
              "      filter: drop-shadow(0px 1px 2px rgba(0, 0, 0, 0.3));\n",
              "      fill: #FFFFFF;\n",
              "    }\n",
              "  </style>\n",
              "\n",
              "      <script>\n",
              "        const buttonEl =\n",
              "          document.querySelector('#df-032439f5-225a-4a9f-92b2-1d218d60f881 button.colab-df-convert');\n",
              "        buttonEl.style.display =\n",
              "          google.colab.kernel.accessAllowed ? 'block' : 'none';\n",
              "\n",
              "        async function convertToInteractive(key) {\n",
              "          const element = document.querySelector('#df-032439f5-225a-4a9f-92b2-1d218d60f881');\n",
              "          const dataTable =\n",
              "            await google.colab.kernel.invokeFunction('convertToInteractive',\n",
              "                                                     [key], {});\n",
              "          if (!dataTable) return;\n",
              "\n",
              "          const docLinkHtml = 'Like what you see? Visit the ' +\n",
              "            '<a target=\"_blank\" href=https://colab.research.google.com/notebooks/data_table.ipynb>data table notebook</a>'\n",
              "            + ' to learn more about interactive tables.';\n",
              "          element.innerHTML = '';\n",
              "          dataTable['output_type'] = 'display_data';\n",
              "          await google.colab.output.renderOutput(dataTable, element);\n",
              "          const docLink = document.createElement('div');\n",
              "          docLink.innerHTML = docLinkHtml;\n",
              "          element.appendChild(docLink);\n",
              "        }\n",
              "      </script>\n",
              "    </div>\n",
              "  </div>\n",
              "  "
            ]
          },
          "metadata": {},
          "execution_count": 15
        }
      ]
    },
    {
      "cell_type": "markdown",
      "metadata": {
        "id": "9m-_jCJ5Rk6y"
      },
      "source": [
        "1.2.1 Add code in the given blocks to generate relevant scatter plots. Use these to reason about which item to add - write your answer and explanation in the relevant blocks.\n"
      ]
    },
    {
      "cell_type": "code",
      "source": [
        "attraction_env.generate_datasets()"
      ],
      "metadata": {
        "colab": {
          "base_uri": "https://localhost:8080/",
          "height": 0
        },
        "id": "ZvH9oY30M1ds",
        "outputId": "94e33841-6857-4adf-c00c-c3976a47a5b8"
      },
      "execution_count": 16,
      "outputs": [
        {
          "output_type": "stream",
          "name": "stdout",
          "text": [
            "here1\n",
            "len(data) =  8\n",
            "observations_per_user =  50\n",
            "here2\n",
            "here3\n"
          ]
        },
        {
          "output_type": "execute_result",
          "data": {
            "text/plain": [
              "   index     0    1  user_id  slate_id name  rantional_user_val  top_5  \\\n",
              "0      0   3.0  8.0      0.0       0.0    A                75.0   True   \n",
              "1      1   8.0  7.0      0.0       0.0    B                71.0   True   \n",
              "2      2   8.5  4.0      0.0       0.0    C                44.5  False   \n",
              "3      3   4.0  4.0      0.0       0.0    D                40.0  False   \n",
              "4      4  10.0  5.0      0.0       0.0    E                55.0   True   \n",
              "5      5   8.0  6.0      0.0       0.0    F                62.0   True   \n",
              "6      6   2.0  1.0      0.0       0.0    G                11.0  False   \n",
              "7      7   1.0  8.0      0.0       0.0    H                73.0   True   \n",
              "\n",
              "   perceived_val  chosen  \n",
              "0      80.692100       1  \n",
              "1      71.948683       0  \n",
              "2            NaN       0  \n",
              "3            NaN       0  \n",
              "4      55.000000       0  \n",
              "5      61.051317       0  \n",
              "6            NaN       0  \n",
              "7      67.307900       0  "
            ],
            "text/html": [
              "\n",
              "  <div id=\"df-ee009675-5d9d-4610-81da-81d2831a9ce9\">\n",
              "    <div class=\"colab-df-container\">\n",
              "      <div>\n",
              "<style scoped>\n",
              "    .dataframe tbody tr th:only-of-type {\n",
              "        vertical-align: middle;\n",
              "    }\n",
              "\n",
              "    .dataframe tbody tr th {\n",
              "        vertical-align: top;\n",
              "    }\n",
              "\n",
              "    .dataframe thead th {\n",
              "        text-align: right;\n",
              "    }\n",
              "</style>\n",
              "<table border=\"1\" class=\"dataframe\">\n",
              "  <thead>\n",
              "    <tr style=\"text-align: right;\">\n",
              "      <th></th>\n",
              "      <th>index</th>\n",
              "      <th>0</th>\n",
              "      <th>1</th>\n",
              "      <th>user_id</th>\n",
              "      <th>slate_id</th>\n",
              "      <th>name</th>\n",
              "      <th>rantional_user_val</th>\n",
              "      <th>top_5</th>\n",
              "      <th>perceived_val</th>\n",
              "      <th>chosen</th>\n",
              "    </tr>\n",
              "  </thead>\n",
              "  <tbody>\n",
              "    <tr>\n",
              "      <th>0</th>\n",
              "      <td>0</td>\n",
              "      <td>3.0</td>\n",
              "      <td>8.0</td>\n",
              "      <td>0.0</td>\n",
              "      <td>0.0</td>\n",
              "      <td>A</td>\n",
              "      <td>75.0</td>\n",
              "      <td>True</td>\n",
              "      <td>80.692100</td>\n",
              "      <td>1</td>\n",
              "    </tr>\n",
              "    <tr>\n",
              "      <th>1</th>\n",
              "      <td>1</td>\n",
              "      <td>8.0</td>\n",
              "      <td>7.0</td>\n",
              "      <td>0.0</td>\n",
              "      <td>0.0</td>\n",
              "      <td>B</td>\n",
              "      <td>71.0</td>\n",
              "      <td>True</td>\n",
              "      <td>71.948683</td>\n",
              "      <td>0</td>\n",
              "    </tr>\n",
              "    <tr>\n",
              "      <th>2</th>\n",
              "      <td>2</td>\n",
              "      <td>8.5</td>\n",
              "      <td>4.0</td>\n",
              "      <td>0.0</td>\n",
              "      <td>0.0</td>\n",
              "      <td>C</td>\n",
              "      <td>44.5</td>\n",
              "      <td>False</td>\n",
              "      <td>NaN</td>\n",
              "      <td>0</td>\n",
              "    </tr>\n",
              "    <tr>\n",
              "      <th>3</th>\n",
              "      <td>3</td>\n",
              "      <td>4.0</td>\n",
              "      <td>4.0</td>\n",
              "      <td>0.0</td>\n",
              "      <td>0.0</td>\n",
              "      <td>D</td>\n",
              "      <td>40.0</td>\n",
              "      <td>False</td>\n",
              "      <td>NaN</td>\n",
              "      <td>0</td>\n",
              "    </tr>\n",
              "    <tr>\n",
              "      <th>4</th>\n",
              "      <td>4</td>\n",
              "      <td>10.0</td>\n",
              "      <td>5.0</td>\n",
              "      <td>0.0</td>\n",
              "      <td>0.0</td>\n",
              "      <td>E</td>\n",
              "      <td>55.0</td>\n",
              "      <td>True</td>\n",
              "      <td>55.000000</td>\n",
              "      <td>0</td>\n",
              "    </tr>\n",
              "    <tr>\n",
              "      <th>5</th>\n",
              "      <td>5</td>\n",
              "      <td>8.0</td>\n",
              "      <td>6.0</td>\n",
              "      <td>0.0</td>\n",
              "      <td>0.0</td>\n",
              "      <td>F</td>\n",
              "      <td>62.0</td>\n",
              "      <td>True</td>\n",
              "      <td>61.051317</td>\n",
              "      <td>0</td>\n",
              "    </tr>\n",
              "    <tr>\n",
              "      <th>6</th>\n",
              "      <td>6</td>\n",
              "      <td>2.0</td>\n",
              "      <td>1.0</td>\n",
              "      <td>0.0</td>\n",
              "      <td>0.0</td>\n",
              "      <td>G</td>\n",
              "      <td>11.0</td>\n",
              "      <td>False</td>\n",
              "      <td>NaN</td>\n",
              "      <td>0</td>\n",
              "    </tr>\n",
              "    <tr>\n",
              "      <th>7</th>\n",
              "      <td>7</td>\n",
              "      <td>1.0</td>\n",
              "      <td>8.0</td>\n",
              "      <td>0.0</td>\n",
              "      <td>0.0</td>\n",
              "      <td>H</td>\n",
              "      <td>73.0</td>\n",
              "      <td>True</td>\n",
              "      <td>67.307900</td>\n",
              "      <td>0</td>\n",
              "    </tr>\n",
              "  </tbody>\n",
              "</table>\n",
              "</div>\n",
              "      <button class=\"colab-df-convert\" onclick=\"convertToInteractive('df-ee009675-5d9d-4610-81da-81d2831a9ce9')\"\n",
              "              title=\"Convert this dataframe to an interactive table.\"\n",
              "              style=\"display:none;\">\n",
              "        \n",
              "  <svg xmlns=\"http://www.w3.org/2000/svg\" height=\"24px\"viewBox=\"0 0 24 24\"\n",
              "       width=\"24px\">\n",
              "    <path d=\"M0 0h24v24H0V0z\" fill=\"none\"/>\n",
              "    <path d=\"M18.56 5.44l.94 2.06.94-2.06 2.06-.94-2.06-.94-.94-2.06-.94 2.06-2.06.94zm-11 1L8.5 8.5l.94-2.06 2.06-.94-2.06-.94L8.5 2.5l-.94 2.06-2.06.94zm10 10l.94 2.06.94-2.06 2.06-.94-2.06-.94-.94-2.06-.94 2.06-2.06.94z\"/><path d=\"M17.41 7.96l-1.37-1.37c-.4-.4-.92-.59-1.43-.59-.52 0-1.04.2-1.43.59L10.3 9.45l-7.72 7.72c-.78.78-.78 2.05 0 2.83L4 21.41c.39.39.9.59 1.41.59.51 0 1.02-.2 1.41-.59l7.78-7.78 2.81-2.81c.8-.78.8-2.07 0-2.86zM5.41 20L4 18.59l7.72-7.72 1.47 1.35L5.41 20z\"/>\n",
              "  </svg>\n",
              "      </button>\n",
              "      \n",
              "  <style>\n",
              "    .colab-df-container {\n",
              "      display:flex;\n",
              "      flex-wrap:wrap;\n",
              "      gap: 12px;\n",
              "    }\n",
              "\n",
              "    .colab-df-convert {\n",
              "      background-color: #E8F0FE;\n",
              "      border: none;\n",
              "      border-radius: 50%;\n",
              "      cursor: pointer;\n",
              "      display: none;\n",
              "      fill: #1967D2;\n",
              "      height: 32px;\n",
              "      padding: 0 0 0 0;\n",
              "      width: 32px;\n",
              "    }\n",
              "\n",
              "    .colab-df-convert:hover {\n",
              "      background-color: #E2EBFA;\n",
              "      box-shadow: 0px 1px 2px rgba(60, 64, 67, 0.3), 0px 1px 3px 1px rgba(60, 64, 67, 0.15);\n",
              "      fill: #174EA6;\n",
              "    }\n",
              "\n",
              "    [theme=dark] .colab-df-convert {\n",
              "      background-color: #3B4455;\n",
              "      fill: #D2E3FC;\n",
              "    }\n",
              "\n",
              "    [theme=dark] .colab-df-convert:hover {\n",
              "      background-color: #434B5C;\n",
              "      box-shadow: 0px 1px 3px 1px rgba(0, 0, 0, 0.15);\n",
              "      filter: drop-shadow(0px 1px 2px rgba(0, 0, 0, 0.3));\n",
              "      fill: #FFFFFF;\n",
              "    }\n",
              "  </style>\n",
              "\n",
              "      <script>\n",
              "        const buttonEl =\n",
              "          document.querySelector('#df-ee009675-5d9d-4610-81da-81d2831a9ce9 button.colab-df-convert');\n",
              "        buttonEl.style.display =\n",
              "          google.colab.kernel.accessAllowed ? 'block' : 'none';\n",
              "\n",
              "        async function convertToInteractive(key) {\n",
              "          const element = document.querySelector('#df-ee009675-5d9d-4610-81da-81d2831a9ce9');\n",
              "          const dataTable =\n",
              "            await google.colab.kernel.invokeFunction('convertToInteractive',\n",
              "                                                     [key], {});\n",
              "          if (!dataTable) return;\n",
              "\n",
              "          const docLinkHtml = 'Like what you see? Visit the ' +\n",
              "            '<a target=\"_blank\" href=https://colab.research.google.com/notebooks/data_table.ipynb>data table notebook</a>'\n",
              "            + ' to learn more about interactive tables.';\n",
              "          element.innerHTML = '';\n",
              "          dataTable['output_type'] = 'display_data';\n",
              "          await google.colab.output.renderOutput(dataTable, element);\n",
              "          const docLink = document.createElement('div');\n",
              "          docLink.innerHTML = docLinkHtml;\n",
              "          element.appendChild(docLink);\n",
              "        }\n",
              "      </script>\n",
              "    </div>\n",
              "  </div>\n",
              "  "
            ]
          },
          "metadata": {},
          "execution_count": 16
        }
      ]
    },
    {
      "cell_type": "code",
      "metadata": {
        "id": "76oYR8_UVvnT",
        "colab": {
          "base_uri": "https://localhost:8080/",
          "height": 0
        },
        "outputId": "fff902e6-2d3a-47d3-f598-0e7cec64afde"
      },
      "source": [
        "## YOUR SOLUTION\n",
        "attraction_env.plot_omega()"
      ],
      "execution_count": 17,
      "outputs": [
        {
          "output_type": "stream",
          "name": "stdout",
          "text": [
            "here1\n",
            "len(data) =  8\n",
            "observations_per_user =  50\n",
            "here2\n",
            "here3\n"
          ]
        },
        {
          "output_type": "display_data",
          "data": {
            "text/plain": [
              "<Figure size 432x288 with 1 Axes>"
            ],
            "image/png": "[encoded data removed]"
          },
          "metadata": {
            "image/png": {
              "width": 377,
              "height": 284
            },
            "needs_background": "light"
          }
        }
      ]
    },
    {
      "cell_type": "code",
      "metadata": {
        "id": "Fiyjd1q2wkdo",
        "colab": {
          "base_uri": "https://localhost:8080/",
          "height": 0
        },
        "outputId": "c7b88a0a-3e73-4374-c907-881f8fc3eb3e"
      },
      "source": [
        "## YOUR SOLUTION\n",
        "attraction_env.plot_two_sets()"
      ],
      "execution_count": 18,
      "outputs": [
        {
          "output_type": "display_data",
          "data": {
            "text/plain": [
              "<Figure size 432x288 with 1 Axes>"
            ],
            "image/png": "[encoded data removed]"
          },
          "metadata": {
            "image/png": {
              "width": 377,
              "height": 284
            },
            "needs_background": "light"
          }
        }
      ]
    },
    {
      "cell_type": "markdown",
      "metadata": {
        "id": "Cdg-QyKkivvQ"
      },
      "source": [
        "**Which item will you add and why?** (you can use the code to experiment)"
      ]
    },
    {
      "cell_type": "code",
      "metadata": {
        "id": "AqJ9nROiNizB",
        "colab": {
          "base_uri": "https://localhost:8080/"
        },
        "outputId": "75461057-7d56-4b2e-a73f-5c2321b71069"
      },
      "source": [
        "def system_utility(df_generate, df_inspect, system_val_column = 'E_s',choice_column = 'chosen'):\n",
        "  chosen_item = str(df_generate[df_generate[choice_column] == 1]['name'].iloc[0])\n",
        "  sys_val = df_inspect[df_inspect['name'] == chosen_item][system_val_column].iloc[0]\n",
        "  return chosen_item, sys_val\n",
        "\n",
        "max_sys_util, best_item_to_add = 0, 0 \n",
        "best_item = 0 \n",
        "\n",
        "df_inspect_tag = attraction_env.inspect_data(items_type=\"tag\")\n",
        "for item_idx in range(len(attraction_env.omega_tag[0])): \n",
        "  attraction_env.add_item(index=item_idx)\n",
        "\n",
        "  # plotting:\n",
        "  # attraction_env.plot_omega()\n",
        "  df_generate = attraction_env.generate_datasets()\n",
        "  df_inspect = attraction_env.inspect_data(items_type=\"current\")\n",
        "\n",
        "  cur_chosen_item, cur_sys_util = system_utility(df_generate, df_inspect)\n",
        "  if(cur_sys_util > max_sys_util):\n",
        "    max_sys_util, best_item_to_add_idx =  cur_sys_util, item_idx\n",
        "    best_chosen_item = cur_chosen_item\n",
        "     \n",
        "  attraction_env.pop_item()\n",
        "\n",
        "  # print(\"the system's utility is: \" + str(system_utility(df_generate, df_inspect)))\n",
        "best_item_to_add_str = str(df_inspect_tag['name'].iloc[best_item_to_add_idx]) \n",
        "print(\"best item to add is: \" +best_item_to_add_str+ \" which causes item: \" +str(best_chosen_item)+  \" to be chosen, and gives a system utiliy: \" +str(max_sys_util))\n",
        "\n",
        "print(\"\\nThe row in Omega_tag representing \" +best_item_to_add_str+\" :\\n\")\n",
        "print(df_inspect_tag.iloc[best_item_to_add_idx])"
      ],
      "execution_count": 19,
      "outputs": [
        {
          "output_type": "stream",
          "name": "stdout",
          "text": [
            "here1\n",
            "len(data) =  9\n",
            "observations_per_user =  50\n",
            "here2\n",
            "here3\n",
            "here1\n",
            "len(data) =  9\n",
            "observations_per_user =  50\n",
            "here2\n",
            "here3\n",
            "here1\n",
            "len(data) =  9\n",
            "observations_per_user =  50\n",
            "here2\n",
            "here3\n",
            "here1\n",
            "len(data) =  9\n",
            "observations_per_user =  50\n",
            "here2\n",
            "here3\n",
            "best item to add is: K which causes item: B to be chosen, and gives a system utiliy: 90\n",
            "\n",
            "The row in Omega_tag representing K :\n",
            "\n",
            "index                    1\n",
            "0                      3.0\n",
            "1                      6.0\n",
            "user_id                0.0\n",
            "slate_id               0.0\n",
            "rantional_user_val    57.0\n",
            "E_s                      8\n",
            "name                     K\n",
            "Name: 1, dtype: object\n"
          ]
        }
      ]
    },
    {
      "cell_type": "markdown",
      "source": [
        "**Explanation:**\n",
        "\n",
        "The item with (X1=3, X2=6), when looking specifically on the trade-off between value B to be chosen instead of A previously chosen, we see that this point contributes most to the dominance of B and is not dominated by A.\n",
        "In fact, all point in Omega_tag are neither dominated or dominate A, so their effect is adding attrcation to B, and as we see, item with (X1=3, X2=6) gives the most."
      ],
      "metadata": {
        "id": "rdr-7y7YoPLF"
      }
    },
    {
      "cell_type": "markdown",
      "metadata": {
        "id": "6O0YEMXJRm8f"
      },
      "source": [
        "1.2.2 Add code to generate the final plot, showing recommendations and choice after you have added the additional item."
      ]
    },
    {
      "cell_type": "code",
      "metadata": {
        "id": "Wum1D-NSi4AK",
        "colab": {
          "base_uri": "https://localhost:8080/",
          "height": 0
        },
        "outputId": "432c088c-6b4f-46a7-a83e-a9301eb8376f"
      },
      "source": [
        "## YOUR SOLUTION\n",
        "# plotting:\n",
        "attraction_env.add_item(index=best_item_to_add_idx)\n",
        "attraction_env.plot_omega()\n",
        "attraction_env.plot_two_sets()\n",
        "attraction_env.pop_item()"
      ],
      "execution_count": 20,
      "outputs": [
        {
          "output_type": "stream",
          "name": "stdout",
          "text": [
            "here1\n",
            "len(data) =  9\n",
            "observations_per_user =  50\n",
            "here2\n",
            "here3\n"
          ]
        },
        {
          "output_type": "display_data",
          "data": {
            "text/plain": [
              "<Figure size 432x288 with 1 Axes>"
            ],
            "image/png": "[encoded data removed]"
          },
          "metadata": {
            "image/png": {
              "width": 377,
              "height": 284
            },
            "needs_background": "light"
          }
        },
        {
          "output_type": "display_data",
          "data": {
            "text/plain": [
              "<Figure size 432x288 with 1 Axes>"
            ],
            "image/png": "[encoded data removed]"
          },
          "metadata": {
            "image/png": {
              "width": 377,
              "height": 284
            },
            "needs_background": "light"
          }
        }
      ]
    },
    {
      "cell_type": "markdown",
      "metadata": {
        "id": "ViyT713yuuTT"
      },
      "source": [
        "1.2.3 Calculate welfare and regret for before and after adding the additional item. Print your results.\n"
      ]
    },
    {
      "cell_type": "code",
      "metadata": {
        "id": "jeTXEPz8jFSU",
        "colab": {
          "base_uri": "https://localhost:8080/"
        },
        "outputId": "20fcaf40-bc21-4794-9bf5-91e09c809a70"
      },
      "source": [
        "df = attraction_env.generate_datasets()\n",
        "# print(df)\n",
        "attraction_env.add_item(index=best_item_to_add_idx)\n",
        "df_new = attraction_env.generate_datasets()\n",
        "# print(df_new)\n",
        "\n",
        "## YOUR SOLUTION\n",
        "\n",
        "welfare_before = welfare(df)\n",
        "welfare_after = welfare(df_new)\n",
        "\n",
        "print(f'welfare before adding additional item = {welfare_before}\\n\\\n",
        "welfare after adding additional item = {welfare_after}')\n",
        "\n",
        "regret_before = regret(df)\n",
        "regret_after = regret(df_new)\n",
        "\n",
        "\n",
        "print(f'regret before adding additional item = {regret_before}\\n\\\n",
        "regret after adding additional item = {regret_after}') \n"
      ],
      "execution_count": 21,
      "outputs": [
        {
          "output_type": "stream",
          "name": "stdout",
          "text": [
            "here1\n",
            "len(data) =  8\n",
            "observations_per_user =  50\n",
            "here2\n",
            "here3\n",
            "here1\n",
            "len(data) =  9\n",
            "observations_per_user =  50\n",
            "here2\n",
            "here3\n",
            "welfare before adding additional item = 75.0\n",
            "welfare after adding additional item = 71.0\n",
            "regret before adding additional item = 5.692099788303082\n",
            "regret after adding additional item = 16.07118598199662\n"
          ]
        }
      ]
    },
    {
      "cell_type": "markdown",
      "source": [
        "# Task2: your ranker\n",
        "\n",
        "Here you implement your ranking algorithm class. "
      ],
      "metadata": {
        "id": "gANnqHEU65SN"
      }
    },
    {
      "cell_type": "markdown",
      "source": [
        "Load Train and test datasets:"
      ],
      "metadata": {
        "id": "m6GbT-sN73z6"
      }
    },
    {
      "cell_type": "code",
      "source": [
        "## YOUR SOLUTION\n",
        "from google.colab import drive\n",
        "drive.mount('/content/drive')\n",
        "train_data, train_labels = pd.read_pickle('train.pkl') , pd.read_pickle('train_labels.pkl')\n",
        "test_data, test_labels = pd.read_pickle('test.pkl'), pd.read_pickle('test_labels.pkl')\n"
      ],
      "metadata": {
        "id": "G8CV0lrz7EL9",
        "colab": {
          "base_uri": "https://localhost:8080/"
        },
        "outputId": "57790f0c-5713-436b-f160-bc3d8186b3f4"
      },
      "execution_count": 179,
      "outputs": [
        {
          "output_type": "stream",
          "name": "stdout",
          "text": [
            "Drive already mounted at /content/drive; to attempt to forcibly remount, call drive.mount(\"/content/drive\", force_remount=True).\n"
          ]
        }
      ]
    },
    {
      "cell_type": "markdown",
      "source": [
        "Your Ranker implementation"
      ],
      "metadata": {
        "id": "5g8q0JWe8L2E"
      }
    },
    {
      "cell_type": "code",
      "source": [
        "## YOUR SOLUTION\n",
        "\n",
        "def tranform_pairwise(X,y):\n",
        "  #split the data into slates - slate_splitted_X will have #num_slates arrays, each array has an array of items in this slate \n",
        "  slate_splitted_X = np.split(train_data[:,1:], np.unique(train_data[:, 0], return_index=True)[1][1:])\n",
        "\n",
        "  #split the labels into slates - slate_splitted_labels will have #num_slates arrays, each array is a one-hot indicating the chosen item for mthe slate \n",
        "  slate_splitted_labels = np.split(train_labels[:, 0], np.unique(train_labels[:, 1], return_index=True)[1][1:])\n",
        "\n",
        "  X_new, y_new = [], []\n",
        "  for slate, choice_mask in zip(slate_splitted_X, slate_splitted_labels):\n",
        "    chosen_item_idx = np.where(choice_mask ==1)[0]\n",
        "    chosen_item = slate[chosen_item_idx][0]\n",
        "    \n",
        "    for j, non_chosen_item in enumerate(slate):\n",
        "      if j == chosen_item_idx: \n",
        "        continue\n",
        "\n",
        "      # np.random.seed(seed=0)\n",
        "      a = np.random.choice([-1,1])\n",
        "      x_bar, y_bar = a*(chosen_item - non_chosen_item), a\n",
        "      X_new.append(x_bar)\n",
        "      y_new.append(y_bar)\n",
        "    \n",
        "  return np.array(X_new), np.array(y_new)\n",
        "\n",
        "\n",
        "## YOUR SOLUTION\n",
        "class MyRanker(svm.LinearSVC):\n",
        "  def Fit(self, X, y):\n",
        "    X_new, y_new = tranform_pairwise(X,y)\n",
        "    \n",
        "    # fit a lineasr classifier and save its coefficients\n",
        "    self.coef =  self.fit(X_new, y_new).coef_\n",
        "    return self\n",
        "  \n",
        "  def Predict(self, X):\n",
        "    slate_splitted_X = np.split(X[:,1:], np.unique(X[:, 0], return_index=True)[1][1:])\n",
        "    y_pred = None\n",
        "    # for each slate, calculate the score of the items and return the one with the highest score\n",
        "    for slate in slate_splitted_X:\n",
        "      slate_scores = slate @ self.coef.reshape(-1,1)\n",
        "      chosen_item_idx = np.argmax(slate_scores, axis = 0)\n",
        "      slate_choice_mask = np.zeros(len(slate))\n",
        "      slate_choice_mask[chosen_item_idx] = 1\n",
        "      if y_pred is None:\n",
        "        y_pred = slate_choice_mask\n",
        "      else:\n",
        "        y_pred = np.append(y_pred,slate_choice_mask) \n",
        "    return y_pred\n",
        "\n"
      ],
      "metadata": {
        "id": "2l1goVgQ8Rb6"
      },
      "execution_count": 184,
      "outputs": []
    },
    {
      "cell_type": "markdown",
      "source": [
        "Test Your ranker with the example inputs, print accuracy."
      ],
      "metadata": {
        "id": "Nwk5Zh8e8Vol"
      }
    },
    {
      "cell_type": "code",
      "source": [
        "from sklearn.metrics import accuracy_score\n",
        "ranker = MyRanker().Fit(train_data, train_labels)\n",
        "y_pred = ranker.Predict(test_data)\n",
        "\n",
        "accuracy = accuracy_score(test_labels, y_pred)\n",
        "print(f'ranker accuracy = {accuracy:.0%}')"
      ],
      "metadata": {
        "id": "TyIbsKxz8c5f",
        "colab": {
          "base_uri": "https://localhost:8080/"
        },
        "outputId": "c272059a-0919-432f-ee46-17d0995214e4"
      },
      "execution_count": 185,
      "outputs": [
        {
          "output_type": "stream",
          "name": "stdout",
          "text": [
            "ranker accuracy = 100%\n"
          ]
        }
      ]
    },
    {
      "cell_type": "code",
      "source": [],
      "metadata": {
        "id": "MC5Gt-FMEW2G"
      },
      "execution_count": 181,
      "outputs": []
    }
  ]
}